{
 "cells": [
  {
   "cell_type": "code",
   "execution_count": 1,
   "id": "72bab76e",
   "metadata": {},
   "outputs": [],
   "source": [
    "import os \n",
    "import numpy as np\n",
    "import pandas as pd\n",
    "import matplotlib.pyplot as plt\n",
    "import seaborn as sns\n",
    "from scipy.stats import stats"
   ]
  },
  {
   "cell_type": "code",
   "execution_count": 2,
   "id": "e3c88b17",
   "metadata": {},
   "outputs": [],
   "source": [
    "df=pd.read_csv(r\"C:\\Users\\hp\\Downloads\\kc_house_data.csv\")"
   ]
  },
  {
   "cell_type": "code",
   "execution_count": 3,
   "id": "2c76c097",
   "metadata": {},
   "outputs": [
    {
     "data": {
      "text/html": [
       "<div>\n",
       "<style scoped>\n",
       "    .dataframe tbody tr th:only-of-type {\n",
       "        vertical-align: middle;\n",
       "    }\n",
       "\n",
       "    .dataframe tbody tr th {\n",
       "        vertical-align: top;\n",
       "    }\n",
       "\n",
       "    .dataframe thead th {\n",
       "        text-align: right;\n",
       "    }\n",
       "</style>\n",
       "<table border=\"1\" class=\"dataframe\">\n",
       "  <thead>\n",
       "    <tr style=\"text-align: right;\">\n",
       "      <th></th>\n",
       "      <th>id</th>\n",
       "      <th>date</th>\n",
       "      <th>price</th>\n",
       "      <th>bedrooms</th>\n",
       "      <th>bathrooms</th>\n",
       "      <th>sqft_living</th>\n",
       "      <th>sqft_lot</th>\n",
       "      <th>floors</th>\n",
       "      <th>waterfront</th>\n",
       "      <th>view</th>\n",
       "      <th>...</th>\n",
       "      <th>grade</th>\n",
       "      <th>sqft_above</th>\n",
       "      <th>sqft_basement</th>\n",
       "      <th>yr_built</th>\n",
       "      <th>yr_renovated</th>\n",
       "      <th>zipcode</th>\n",
       "      <th>lat</th>\n",
       "      <th>long</th>\n",
       "      <th>sqft_living15</th>\n",
       "      <th>sqft_lot15</th>\n",
       "    </tr>\n",
       "  </thead>\n",
       "  <tbody>\n",
       "    <tr>\n",
       "      <th>0</th>\n",
       "      <td>7129300520</td>\n",
       "      <td>20141013T000000</td>\n",
       "      <td>221900.0</td>\n",
       "      <td>3</td>\n",
       "      <td>1.00</td>\n",
       "      <td>1180</td>\n",
       "      <td>5650</td>\n",
       "      <td>1.0</td>\n",
       "      <td>0</td>\n",
       "      <td>0</td>\n",
       "      <td>...</td>\n",
       "      <td>7</td>\n",
       "      <td>1180</td>\n",
       "      <td>0</td>\n",
       "      <td>1955</td>\n",
       "      <td>0</td>\n",
       "      <td>98178</td>\n",
       "      <td>47.5112</td>\n",
       "      <td>-122.257</td>\n",
       "      <td>1340</td>\n",
       "      <td>5650</td>\n",
       "    </tr>\n",
       "    <tr>\n",
       "      <th>1</th>\n",
       "      <td>6414100192</td>\n",
       "      <td>20141209T000000</td>\n",
       "      <td>538000.0</td>\n",
       "      <td>3</td>\n",
       "      <td>2.25</td>\n",
       "      <td>2570</td>\n",
       "      <td>7242</td>\n",
       "      <td>2.0</td>\n",
       "      <td>0</td>\n",
       "      <td>0</td>\n",
       "      <td>...</td>\n",
       "      <td>7</td>\n",
       "      <td>2170</td>\n",
       "      <td>400</td>\n",
       "      <td>1951</td>\n",
       "      <td>1991</td>\n",
       "      <td>98125</td>\n",
       "      <td>47.7210</td>\n",
       "      <td>-122.319</td>\n",
       "      <td>1690</td>\n",
       "      <td>7639</td>\n",
       "    </tr>\n",
       "    <tr>\n",
       "      <th>2</th>\n",
       "      <td>5631500400</td>\n",
       "      <td>20150225T000000</td>\n",
       "      <td>180000.0</td>\n",
       "      <td>2</td>\n",
       "      <td>1.00</td>\n",
       "      <td>770</td>\n",
       "      <td>10000</td>\n",
       "      <td>1.0</td>\n",
       "      <td>0</td>\n",
       "      <td>0</td>\n",
       "      <td>...</td>\n",
       "      <td>6</td>\n",
       "      <td>770</td>\n",
       "      <td>0</td>\n",
       "      <td>1933</td>\n",
       "      <td>0</td>\n",
       "      <td>98028</td>\n",
       "      <td>47.7379</td>\n",
       "      <td>-122.233</td>\n",
       "      <td>2720</td>\n",
       "      <td>8062</td>\n",
       "    </tr>\n",
       "    <tr>\n",
       "      <th>3</th>\n",
       "      <td>2487200875</td>\n",
       "      <td>20141209T000000</td>\n",
       "      <td>604000.0</td>\n",
       "      <td>4</td>\n",
       "      <td>3.00</td>\n",
       "      <td>1960</td>\n",
       "      <td>5000</td>\n",
       "      <td>1.0</td>\n",
       "      <td>0</td>\n",
       "      <td>0</td>\n",
       "      <td>...</td>\n",
       "      <td>7</td>\n",
       "      <td>1050</td>\n",
       "      <td>910</td>\n",
       "      <td>1965</td>\n",
       "      <td>0</td>\n",
       "      <td>98136</td>\n",
       "      <td>47.5208</td>\n",
       "      <td>-122.393</td>\n",
       "      <td>1360</td>\n",
       "      <td>5000</td>\n",
       "    </tr>\n",
       "    <tr>\n",
       "      <th>4</th>\n",
       "      <td>1954400510</td>\n",
       "      <td>20150218T000000</td>\n",
       "      <td>510000.0</td>\n",
       "      <td>3</td>\n",
       "      <td>2.00</td>\n",
       "      <td>1680</td>\n",
       "      <td>8080</td>\n",
       "      <td>1.0</td>\n",
       "      <td>0</td>\n",
       "      <td>0</td>\n",
       "      <td>...</td>\n",
       "      <td>8</td>\n",
       "      <td>1680</td>\n",
       "      <td>0</td>\n",
       "      <td>1987</td>\n",
       "      <td>0</td>\n",
       "      <td>98074</td>\n",
       "      <td>47.6168</td>\n",
       "      <td>-122.045</td>\n",
       "      <td>1800</td>\n",
       "      <td>7503</td>\n",
       "    </tr>\n",
       "    <tr>\n",
       "      <th>...</th>\n",
       "      <td>...</td>\n",
       "      <td>...</td>\n",
       "      <td>...</td>\n",
       "      <td>...</td>\n",
       "      <td>...</td>\n",
       "      <td>...</td>\n",
       "      <td>...</td>\n",
       "      <td>...</td>\n",
       "      <td>...</td>\n",
       "      <td>...</td>\n",
       "      <td>...</td>\n",
       "      <td>...</td>\n",
       "      <td>...</td>\n",
       "      <td>...</td>\n",
       "      <td>...</td>\n",
       "      <td>...</td>\n",
       "      <td>...</td>\n",
       "      <td>...</td>\n",
       "      <td>...</td>\n",
       "      <td>...</td>\n",
       "      <td>...</td>\n",
       "    </tr>\n",
       "    <tr>\n",
       "      <th>21608</th>\n",
       "      <td>263000018</td>\n",
       "      <td>20140521T000000</td>\n",
       "      <td>360000.0</td>\n",
       "      <td>3</td>\n",
       "      <td>2.50</td>\n",
       "      <td>1530</td>\n",
       "      <td>1131</td>\n",
       "      <td>3.0</td>\n",
       "      <td>0</td>\n",
       "      <td>0</td>\n",
       "      <td>...</td>\n",
       "      <td>8</td>\n",
       "      <td>1530</td>\n",
       "      <td>0</td>\n",
       "      <td>2009</td>\n",
       "      <td>0</td>\n",
       "      <td>98103</td>\n",
       "      <td>47.6993</td>\n",
       "      <td>-122.346</td>\n",
       "      <td>1530</td>\n",
       "      <td>1509</td>\n",
       "    </tr>\n",
       "    <tr>\n",
       "      <th>21609</th>\n",
       "      <td>6600060120</td>\n",
       "      <td>20150223T000000</td>\n",
       "      <td>400000.0</td>\n",
       "      <td>4</td>\n",
       "      <td>2.50</td>\n",
       "      <td>2310</td>\n",
       "      <td>5813</td>\n",
       "      <td>2.0</td>\n",
       "      <td>0</td>\n",
       "      <td>0</td>\n",
       "      <td>...</td>\n",
       "      <td>8</td>\n",
       "      <td>2310</td>\n",
       "      <td>0</td>\n",
       "      <td>2014</td>\n",
       "      <td>0</td>\n",
       "      <td>98146</td>\n",
       "      <td>47.5107</td>\n",
       "      <td>-122.362</td>\n",
       "      <td>1830</td>\n",
       "      <td>7200</td>\n",
       "    </tr>\n",
       "    <tr>\n",
       "      <th>21610</th>\n",
       "      <td>1523300141</td>\n",
       "      <td>20140623T000000</td>\n",
       "      <td>402101.0</td>\n",
       "      <td>2</td>\n",
       "      <td>0.75</td>\n",
       "      <td>1020</td>\n",
       "      <td>1350</td>\n",
       "      <td>2.0</td>\n",
       "      <td>0</td>\n",
       "      <td>0</td>\n",
       "      <td>...</td>\n",
       "      <td>7</td>\n",
       "      <td>1020</td>\n",
       "      <td>0</td>\n",
       "      <td>2009</td>\n",
       "      <td>0</td>\n",
       "      <td>98144</td>\n",
       "      <td>47.5944</td>\n",
       "      <td>-122.299</td>\n",
       "      <td>1020</td>\n",
       "      <td>2007</td>\n",
       "    </tr>\n",
       "    <tr>\n",
       "      <th>21611</th>\n",
       "      <td>291310100</td>\n",
       "      <td>20150116T000000</td>\n",
       "      <td>400000.0</td>\n",
       "      <td>3</td>\n",
       "      <td>2.50</td>\n",
       "      <td>1600</td>\n",
       "      <td>2388</td>\n",
       "      <td>2.0</td>\n",
       "      <td>0</td>\n",
       "      <td>0</td>\n",
       "      <td>...</td>\n",
       "      <td>8</td>\n",
       "      <td>1600</td>\n",
       "      <td>0</td>\n",
       "      <td>2004</td>\n",
       "      <td>0</td>\n",
       "      <td>98027</td>\n",
       "      <td>47.5345</td>\n",
       "      <td>-122.069</td>\n",
       "      <td>1410</td>\n",
       "      <td>1287</td>\n",
       "    </tr>\n",
       "    <tr>\n",
       "      <th>21612</th>\n",
       "      <td>1523300157</td>\n",
       "      <td>20141015T000000</td>\n",
       "      <td>325000.0</td>\n",
       "      <td>2</td>\n",
       "      <td>0.75</td>\n",
       "      <td>1020</td>\n",
       "      <td>1076</td>\n",
       "      <td>2.0</td>\n",
       "      <td>0</td>\n",
       "      <td>0</td>\n",
       "      <td>...</td>\n",
       "      <td>7</td>\n",
       "      <td>1020</td>\n",
       "      <td>0</td>\n",
       "      <td>2008</td>\n",
       "      <td>0</td>\n",
       "      <td>98144</td>\n",
       "      <td>47.5941</td>\n",
       "      <td>-122.299</td>\n",
       "      <td>1020</td>\n",
       "      <td>1357</td>\n",
       "    </tr>\n",
       "  </tbody>\n",
       "</table>\n",
       "<p>21613 rows × 21 columns</p>\n",
       "</div>"
      ],
      "text/plain": [
       "               id             date     price  bedrooms  bathrooms  \\\n",
       "0      7129300520  20141013T000000  221900.0         3       1.00   \n",
       "1      6414100192  20141209T000000  538000.0         3       2.25   \n",
       "2      5631500400  20150225T000000  180000.0         2       1.00   \n",
       "3      2487200875  20141209T000000  604000.0         4       3.00   \n",
       "4      1954400510  20150218T000000  510000.0         3       2.00   \n",
       "...           ...              ...       ...       ...        ...   \n",
       "21608   263000018  20140521T000000  360000.0         3       2.50   \n",
       "21609  6600060120  20150223T000000  400000.0         4       2.50   \n",
       "21610  1523300141  20140623T000000  402101.0         2       0.75   \n",
       "21611   291310100  20150116T000000  400000.0         3       2.50   \n",
       "21612  1523300157  20141015T000000  325000.0         2       0.75   \n",
       "\n",
       "       sqft_living  sqft_lot  floors  waterfront  view  ...  grade  \\\n",
       "0             1180      5650     1.0           0     0  ...      7   \n",
       "1             2570      7242     2.0           0     0  ...      7   \n",
       "2              770     10000     1.0           0     0  ...      6   \n",
       "3             1960      5000     1.0           0     0  ...      7   \n",
       "4             1680      8080     1.0           0     0  ...      8   \n",
       "...            ...       ...     ...         ...   ...  ...    ...   \n",
       "21608         1530      1131     3.0           0     0  ...      8   \n",
       "21609         2310      5813     2.0           0     0  ...      8   \n",
       "21610         1020      1350     2.0           0     0  ...      7   \n",
       "21611         1600      2388     2.0           0     0  ...      8   \n",
       "21612         1020      1076     2.0           0     0  ...      7   \n",
       "\n",
       "       sqft_above  sqft_basement  yr_built  yr_renovated  zipcode      lat  \\\n",
       "0            1180              0      1955             0    98178  47.5112   \n",
       "1            2170            400      1951          1991    98125  47.7210   \n",
       "2             770              0      1933             0    98028  47.7379   \n",
       "3            1050            910      1965             0    98136  47.5208   \n",
       "4            1680              0      1987             0    98074  47.6168   \n",
       "...           ...            ...       ...           ...      ...      ...   \n",
       "21608        1530              0      2009             0    98103  47.6993   \n",
       "21609        2310              0      2014             0    98146  47.5107   \n",
       "21610        1020              0      2009             0    98144  47.5944   \n",
       "21611        1600              0      2004             0    98027  47.5345   \n",
       "21612        1020              0      2008             0    98144  47.5941   \n",
       "\n",
       "          long  sqft_living15  sqft_lot15  \n",
       "0     -122.257           1340        5650  \n",
       "1     -122.319           1690        7639  \n",
       "2     -122.233           2720        8062  \n",
       "3     -122.393           1360        5000  \n",
       "4     -122.045           1800        7503  \n",
       "...        ...            ...         ...  \n",
       "21608 -122.346           1530        1509  \n",
       "21609 -122.362           1830        7200  \n",
       "21610 -122.299           1020        2007  \n",
       "21611 -122.069           1410        1287  \n",
       "21612 -122.299           1020        1357  \n",
       "\n",
       "[21613 rows x 21 columns]"
      ]
     },
     "execution_count": 3,
     "metadata": {},
     "output_type": "execute_result"
    }
   ],
   "source": [
    "df"
   ]
  },
  {
   "cell_type": "code",
   "execution_count": 4,
   "id": "aa1a38b5",
   "metadata": {},
   "outputs": [
    {
     "data": {
      "text/plain": [
       "(21613, 21)"
      ]
     },
     "execution_count": 4,
     "metadata": {},
     "output_type": "execute_result"
    }
   ],
   "source": [
    "df.shape"
   ]
  },
  {
   "cell_type": "code",
   "execution_count": 5,
   "id": "05104b18",
   "metadata": {},
   "outputs": [
    {
     "data": {
      "text/plain": [
       "id                 int64\n",
       "date              object\n",
       "price            float64\n",
       "bedrooms           int64\n",
       "bathrooms        float64\n",
       "sqft_living        int64\n",
       "sqft_lot           int64\n",
       "floors           float64\n",
       "waterfront         int64\n",
       "view               int64\n",
       "condition          int64\n",
       "grade              int64\n",
       "sqft_above         int64\n",
       "sqft_basement      int64\n",
       "yr_built           int64\n",
       "yr_renovated       int64\n",
       "zipcode            int64\n",
       "lat              float64\n",
       "long             float64\n",
       "sqft_living15      int64\n",
       "sqft_lot15         int64\n",
       "dtype: object"
      ]
     },
     "execution_count": 5,
     "metadata": {},
     "output_type": "execute_result"
    }
   ],
   "source": [
    "df.dtypes"
   ]
  },
  {
   "cell_type": "code",
   "execution_count": 6,
   "id": "1525078c",
   "metadata": {},
   "outputs": [
    {
     "name": "stdout",
     "output_type": "stream",
     "text": [
      "<class 'pandas.core.frame.DataFrame'>\n",
      "RangeIndex: 21613 entries, 0 to 21612\n",
      "Data columns (total 21 columns):\n",
      " #   Column         Non-Null Count  Dtype  \n",
      "---  ------         --------------  -----  \n",
      " 0   id             21613 non-null  int64  \n",
      " 1   date           21613 non-null  object \n",
      " 2   price          21613 non-null  float64\n",
      " 3   bedrooms       21613 non-null  int64  \n",
      " 4   bathrooms      21613 non-null  float64\n",
      " 5   sqft_living    21613 non-null  int64  \n",
      " 6   sqft_lot       21613 non-null  int64  \n",
      " 7   floors         21613 non-null  float64\n",
      " 8   waterfront     21613 non-null  int64  \n",
      " 9   view           21613 non-null  int64  \n",
      " 10  condition      21613 non-null  int64  \n",
      " 11  grade          21613 non-null  int64  \n",
      " 12  sqft_above     21613 non-null  int64  \n",
      " 13  sqft_basement  21613 non-null  int64  \n",
      " 14  yr_built       21613 non-null  int64  \n",
      " 15  yr_renovated   21613 non-null  int64  \n",
      " 16  zipcode        21613 non-null  int64  \n",
      " 17  lat            21613 non-null  float64\n",
      " 18  long           21613 non-null  float64\n",
      " 19  sqft_living15  21613 non-null  int64  \n",
      " 20  sqft_lot15     21613 non-null  int64  \n",
      "dtypes: float64(5), int64(15), object(1)\n",
      "memory usage: 3.5+ MB\n"
     ]
    }
   ],
   "source": [
    "df.info()"
   ]
  },
  {
   "cell_type": "code",
   "execution_count": 7,
   "id": "2235cd10",
   "metadata": {},
   "outputs": [
    {
     "data": {
      "text/plain": [
       "id               0\n",
       "date             0\n",
       "price            0\n",
       "bedrooms         0\n",
       "bathrooms        0\n",
       "sqft_living      0\n",
       "sqft_lot         0\n",
       "floors           0\n",
       "waterfront       0\n",
       "view             0\n",
       "condition        0\n",
       "grade            0\n",
       "sqft_above       0\n",
       "sqft_basement    0\n",
       "yr_built         0\n",
       "yr_renovated     0\n",
       "zipcode          0\n",
       "lat              0\n",
       "long             0\n",
       "sqft_living15    0\n",
       "sqft_lot15       0\n",
       "dtype: int64"
      ]
     },
     "execution_count": 7,
     "metadata": {},
     "output_type": "execute_result"
    }
   ],
   "source": [
    "df.isnull().sum()"
   ]
  },
  {
   "cell_type": "markdown",
   "id": "bb5d6618",
   "metadata": {},
   "source": [
    "* There is not a missing values\n",
    "* there is 20 num and 1 cat columns"
   ]
  },
  {
   "cell_type": "markdown",
   "id": "1dd96477",
   "metadata": {},
   "source": [
    "## Univariate analysis"
   ]
  },
  {
   "cell_type": "code",
   "execution_count": 8,
   "id": "bf8f0a15",
   "metadata": {},
   "outputs": [
    {
     "data": {
      "text/plain": [
       "21436"
      ]
     },
     "execution_count": 8,
     "metadata": {},
     "output_type": "execute_result"
    }
   ],
   "source": [
    "df[\"id\"].nunique()  # some id repeted "
   ]
  },
  {
   "cell_type": "code",
   "execution_count": 9,
   "id": "559fe690",
   "metadata": {},
   "outputs": [],
   "source": [
    "df[\"house_yr\"]=pd.to_datetime('today').year-df[\"yr_built\"]\n"
   ]
  },
  {
   "cell_type": "code",
   "execution_count": 10,
   "id": "16dd9493",
   "metadata": {},
   "outputs": [],
   "source": [
    "df.drop(columns=[\"date\"], inplace=True)"
   ]
  },
  {
   "cell_type": "code",
   "execution_count": 11,
   "id": "7df64077",
   "metadata": {},
   "outputs": [
    {
     "data": {
      "text/html": [
       "<div>\n",
       "<style scoped>\n",
       "    .dataframe tbody tr th:only-of-type {\n",
       "        vertical-align: middle;\n",
       "    }\n",
       "\n",
       "    .dataframe tbody tr th {\n",
       "        vertical-align: top;\n",
       "    }\n",
       "\n",
       "    .dataframe thead th {\n",
       "        text-align: right;\n",
       "    }\n",
       "</style>\n",
       "<table border=\"1\" class=\"dataframe\">\n",
       "  <thead>\n",
       "    <tr style=\"text-align: right;\">\n",
       "      <th></th>\n",
       "      <th>id</th>\n",
       "      <th>price</th>\n",
       "      <th>bedrooms</th>\n",
       "      <th>bathrooms</th>\n",
       "      <th>sqft_living</th>\n",
       "      <th>sqft_lot</th>\n",
       "      <th>floors</th>\n",
       "      <th>waterfront</th>\n",
       "      <th>view</th>\n",
       "      <th>condition</th>\n",
       "      <th>...</th>\n",
       "      <th>sqft_above</th>\n",
       "      <th>sqft_basement</th>\n",
       "      <th>yr_built</th>\n",
       "      <th>yr_renovated</th>\n",
       "      <th>zipcode</th>\n",
       "      <th>lat</th>\n",
       "      <th>long</th>\n",
       "      <th>sqft_living15</th>\n",
       "      <th>sqft_lot15</th>\n",
       "      <th>house_yr</th>\n",
       "    </tr>\n",
       "  </thead>\n",
       "  <tbody>\n",
       "    <tr>\n",
       "      <th>0</th>\n",
       "      <td>7129300520</td>\n",
       "      <td>221900.0</td>\n",
       "      <td>3</td>\n",
       "      <td>1.00</td>\n",
       "      <td>1180</td>\n",
       "      <td>5650</td>\n",
       "      <td>1.0</td>\n",
       "      <td>0</td>\n",
       "      <td>0</td>\n",
       "      <td>3</td>\n",
       "      <td>...</td>\n",
       "      <td>1180</td>\n",
       "      <td>0</td>\n",
       "      <td>1955</td>\n",
       "      <td>0</td>\n",
       "      <td>98178</td>\n",
       "      <td>47.5112</td>\n",
       "      <td>-122.257</td>\n",
       "      <td>1340</td>\n",
       "      <td>5650</td>\n",
       "      <td>67</td>\n",
       "    </tr>\n",
       "    <tr>\n",
       "      <th>1</th>\n",
       "      <td>6414100192</td>\n",
       "      <td>538000.0</td>\n",
       "      <td>3</td>\n",
       "      <td>2.25</td>\n",
       "      <td>2570</td>\n",
       "      <td>7242</td>\n",
       "      <td>2.0</td>\n",
       "      <td>0</td>\n",
       "      <td>0</td>\n",
       "      <td>3</td>\n",
       "      <td>...</td>\n",
       "      <td>2170</td>\n",
       "      <td>400</td>\n",
       "      <td>1951</td>\n",
       "      <td>1991</td>\n",
       "      <td>98125</td>\n",
       "      <td>47.7210</td>\n",
       "      <td>-122.319</td>\n",
       "      <td>1690</td>\n",
       "      <td>7639</td>\n",
       "      <td>71</td>\n",
       "    </tr>\n",
       "    <tr>\n",
       "      <th>2</th>\n",
       "      <td>5631500400</td>\n",
       "      <td>180000.0</td>\n",
       "      <td>2</td>\n",
       "      <td>1.00</td>\n",
       "      <td>770</td>\n",
       "      <td>10000</td>\n",
       "      <td>1.0</td>\n",
       "      <td>0</td>\n",
       "      <td>0</td>\n",
       "      <td>3</td>\n",
       "      <td>...</td>\n",
       "      <td>770</td>\n",
       "      <td>0</td>\n",
       "      <td>1933</td>\n",
       "      <td>0</td>\n",
       "      <td>98028</td>\n",
       "      <td>47.7379</td>\n",
       "      <td>-122.233</td>\n",
       "      <td>2720</td>\n",
       "      <td>8062</td>\n",
       "      <td>89</td>\n",
       "    </tr>\n",
       "    <tr>\n",
       "      <th>3</th>\n",
       "      <td>2487200875</td>\n",
       "      <td>604000.0</td>\n",
       "      <td>4</td>\n",
       "      <td>3.00</td>\n",
       "      <td>1960</td>\n",
       "      <td>5000</td>\n",
       "      <td>1.0</td>\n",
       "      <td>0</td>\n",
       "      <td>0</td>\n",
       "      <td>5</td>\n",
       "      <td>...</td>\n",
       "      <td>1050</td>\n",
       "      <td>910</td>\n",
       "      <td>1965</td>\n",
       "      <td>0</td>\n",
       "      <td>98136</td>\n",
       "      <td>47.5208</td>\n",
       "      <td>-122.393</td>\n",
       "      <td>1360</td>\n",
       "      <td>5000</td>\n",
       "      <td>57</td>\n",
       "    </tr>\n",
       "    <tr>\n",
       "      <th>4</th>\n",
       "      <td>1954400510</td>\n",
       "      <td>510000.0</td>\n",
       "      <td>3</td>\n",
       "      <td>2.00</td>\n",
       "      <td>1680</td>\n",
       "      <td>8080</td>\n",
       "      <td>1.0</td>\n",
       "      <td>0</td>\n",
       "      <td>0</td>\n",
       "      <td>3</td>\n",
       "      <td>...</td>\n",
       "      <td>1680</td>\n",
       "      <td>0</td>\n",
       "      <td>1987</td>\n",
       "      <td>0</td>\n",
       "      <td>98074</td>\n",
       "      <td>47.6168</td>\n",
       "      <td>-122.045</td>\n",
       "      <td>1800</td>\n",
       "      <td>7503</td>\n",
       "      <td>35</td>\n",
       "    </tr>\n",
       "    <tr>\n",
       "      <th>...</th>\n",
       "      <td>...</td>\n",
       "      <td>...</td>\n",
       "      <td>...</td>\n",
       "      <td>...</td>\n",
       "      <td>...</td>\n",
       "      <td>...</td>\n",
       "      <td>...</td>\n",
       "      <td>...</td>\n",
       "      <td>...</td>\n",
       "      <td>...</td>\n",
       "      <td>...</td>\n",
       "      <td>...</td>\n",
       "      <td>...</td>\n",
       "      <td>...</td>\n",
       "      <td>...</td>\n",
       "      <td>...</td>\n",
       "      <td>...</td>\n",
       "      <td>...</td>\n",
       "      <td>...</td>\n",
       "      <td>...</td>\n",
       "      <td>...</td>\n",
       "    </tr>\n",
       "    <tr>\n",
       "      <th>21608</th>\n",
       "      <td>263000018</td>\n",
       "      <td>360000.0</td>\n",
       "      <td>3</td>\n",
       "      <td>2.50</td>\n",
       "      <td>1530</td>\n",
       "      <td>1131</td>\n",
       "      <td>3.0</td>\n",
       "      <td>0</td>\n",
       "      <td>0</td>\n",
       "      <td>3</td>\n",
       "      <td>...</td>\n",
       "      <td>1530</td>\n",
       "      <td>0</td>\n",
       "      <td>2009</td>\n",
       "      <td>0</td>\n",
       "      <td>98103</td>\n",
       "      <td>47.6993</td>\n",
       "      <td>-122.346</td>\n",
       "      <td>1530</td>\n",
       "      <td>1509</td>\n",
       "      <td>13</td>\n",
       "    </tr>\n",
       "    <tr>\n",
       "      <th>21609</th>\n",
       "      <td>6600060120</td>\n",
       "      <td>400000.0</td>\n",
       "      <td>4</td>\n",
       "      <td>2.50</td>\n",
       "      <td>2310</td>\n",
       "      <td>5813</td>\n",
       "      <td>2.0</td>\n",
       "      <td>0</td>\n",
       "      <td>0</td>\n",
       "      <td>3</td>\n",
       "      <td>...</td>\n",
       "      <td>2310</td>\n",
       "      <td>0</td>\n",
       "      <td>2014</td>\n",
       "      <td>0</td>\n",
       "      <td>98146</td>\n",
       "      <td>47.5107</td>\n",
       "      <td>-122.362</td>\n",
       "      <td>1830</td>\n",
       "      <td>7200</td>\n",
       "      <td>8</td>\n",
       "    </tr>\n",
       "    <tr>\n",
       "      <th>21610</th>\n",
       "      <td>1523300141</td>\n",
       "      <td>402101.0</td>\n",
       "      <td>2</td>\n",
       "      <td>0.75</td>\n",
       "      <td>1020</td>\n",
       "      <td>1350</td>\n",
       "      <td>2.0</td>\n",
       "      <td>0</td>\n",
       "      <td>0</td>\n",
       "      <td>3</td>\n",
       "      <td>...</td>\n",
       "      <td>1020</td>\n",
       "      <td>0</td>\n",
       "      <td>2009</td>\n",
       "      <td>0</td>\n",
       "      <td>98144</td>\n",
       "      <td>47.5944</td>\n",
       "      <td>-122.299</td>\n",
       "      <td>1020</td>\n",
       "      <td>2007</td>\n",
       "      <td>13</td>\n",
       "    </tr>\n",
       "    <tr>\n",
       "      <th>21611</th>\n",
       "      <td>291310100</td>\n",
       "      <td>400000.0</td>\n",
       "      <td>3</td>\n",
       "      <td>2.50</td>\n",
       "      <td>1600</td>\n",
       "      <td>2388</td>\n",
       "      <td>2.0</td>\n",
       "      <td>0</td>\n",
       "      <td>0</td>\n",
       "      <td>3</td>\n",
       "      <td>...</td>\n",
       "      <td>1600</td>\n",
       "      <td>0</td>\n",
       "      <td>2004</td>\n",
       "      <td>0</td>\n",
       "      <td>98027</td>\n",
       "      <td>47.5345</td>\n",
       "      <td>-122.069</td>\n",
       "      <td>1410</td>\n",
       "      <td>1287</td>\n",
       "      <td>18</td>\n",
       "    </tr>\n",
       "    <tr>\n",
       "      <th>21612</th>\n",
       "      <td>1523300157</td>\n",
       "      <td>325000.0</td>\n",
       "      <td>2</td>\n",
       "      <td>0.75</td>\n",
       "      <td>1020</td>\n",
       "      <td>1076</td>\n",
       "      <td>2.0</td>\n",
       "      <td>0</td>\n",
       "      <td>0</td>\n",
       "      <td>3</td>\n",
       "      <td>...</td>\n",
       "      <td>1020</td>\n",
       "      <td>0</td>\n",
       "      <td>2008</td>\n",
       "      <td>0</td>\n",
       "      <td>98144</td>\n",
       "      <td>47.5941</td>\n",
       "      <td>-122.299</td>\n",
       "      <td>1020</td>\n",
       "      <td>1357</td>\n",
       "      <td>14</td>\n",
       "    </tr>\n",
       "  </tbody>\n",
       "</table>\n",
       "<p>21613 rows × 21 columns</p>\n",
       "</div>"
      ],
      "text/plain": [
       "               id     price  bedrooms  bathrooms  sqft_living  sqft_lot  \\\n",
       "0      7129300520  221900.0         3       1.00         1180      5650   \n",
       "1      6414100192  538000.0         3       2.25         2570      7242   \n",
       "2      5631500400  180000.0         2       1.00          770     10000   \n",
       "3      2487200875  604000.0         4       3.00         1960      5000   \n",
       "4      1954400510  510000.0         3       2.00         1680      8080   \n",
       "...           ...       ...       ...        ...          ...       ...   \n",
       "21608   263000018  360000.0         3       2.50         1530      1131   \n",
       "21609  6600060120  400000.0         4       2.50         2310      5813   \n",
       "21610  1523300141  402101.0         2       0.75         1020      1350   \n",
       "21611   291310100  400000.0         3       2.50         1600      2388   \n",
       "21612  1523300157  325000.0         2       0.75         1020      1076   \n",
       "\n",
       "       floors  waterfront  view  condition  ...  sqft_above  sqft_basement  \\\n",
       "0         1.0           0     0          3  ...        1180              0   \n",
       "1         2.0           0     0          3  ...        2170            400   \n",
       "2         1.0           0     0          3  ...         770              0   \n",
       "3         1.0           0     0          5  ...        1050            910   \n",
       "4         1.0           0     0          3  ...        1680              0   \n",
       "...       ...         ...   ...        ...  ...         ...            ...   \n",
       "21608     3.0           0     0          3  ...        1530              0   \n",
       "21609     2.0           0     0          3  ...        2310              0   \n",
       "21610     2.0           0     0          3  ...        1020              0   \n",
       "21611     2.0           0     0          3  ...        1600              0   \n",
       "21612     2.0           0     0          3  ...        1020              0   \n",
       "\n",
       "       yr_built  yr_renovated  zipcode      lat     long  sqft_living15  \\\n",
       "0          1955             0    98178  47.5112 -122.257           1340   \n",
       "1          1951          1991    98125  47.7210 -122.319           1690   \n",
       "2          1933             0    98028  47.7379 -122.233           2720   \n",
       "3          1965             0    98136  47.5208 -122.393           1360   \n",
       "4          1987             0    98074  47.6168 -122.045           1800   \n",
       "...         ...           ...      ...      ...      ...            ...   \n",
       "21608      2009             0    98103  47.6993 -122.346           1530   \n",
       "21609      2014             0    98146  47.5107 -122.362           1830   \n",
       "21610      2009             0    98144  47.5944 -122.299           1020   \n",
       "21611      2004             0    98027  47.5345 -122.069           1410   \n",
       "21612      2008             0    98144  47.5941 -122.299           1020   \n",
       "\n",
       "       sqft_lot15  house_yr  \n",
       "0            5650        67  \n",
       "1            7639        71  \n",
       "2            8062        89  \n",
       "3            5000        57  \n",
       "4            7503        35  \n",
       "...           ...       ...  \n",
       "21608        1509        13  \n",
       "21609        7200         8  \n",
       "21610        2007        13  \n",
       "21611        1287        18  \n",
       "21612        1357        14  \n",
       "\n",
       "[21613 rows x 21 columns]"
      ]
     },
     "execution_count": 11,
     "metadata": {},
     "output_type": "execute_result"
    }
   ],
   "source": [
    "df"
   ]
  },
  {
   "cell_type": "markdown",
   "id": "998cfdee",
   "metadata": {},
   "source": [
    "* we drop date columns becz we see the house price in 2022\n",
    "* create new column (how old is the house)"
   ]
  },
  {
   "cell_type": "markdown",
   "id": "13dd6b2b",
   "metadata": {},
   "source": [
    "------------------------------------------------------------------------------------="
   ]
  },
  {
   "cell_type": "code",
   "execution_count": 12,
   "id": "ae5dd8e9",
   "metadata": {},
   "outputs": [],
   "source": [
    "def univariate_num(data, x):\n",
    "    missing=data[x].isnull().sum()\n",
    "    min1=round(data[x].min() , 2)\n",
    "    max1=round(data[x].max() , 2)\n",
    "    mean=round(data[x].mean() , 2)\n",
    "    var=round(data[x].var(), 2)\n",
    "    std=round(data[x].std(), 2)\n",
    "    range1=round(max1-min1, 2)\n",
    "    q1=round(data[x].quantile(.25), 2)\n",
    "    q2=round(data[x].quantile(.5),2)\n",
    "    q3=round(data[x].quantile(.75),2)\n",
    "    skew=round(data[x].skew(), 2)\n",
    "    kurt=round(data[x].kurt(), 2)\n",
    "    my_value={\"missing\": missing, \"min\": min1, \"max\": max1, \"mean\":mean, \"var\": var, \"std\":std,\n",
    "             \"range\":range1, \"q1\":q1, \"q2\":q2,\"q3\":q3,\n",
    "            \"skewness\":skew, \"kurtosis\":kurt}\n",
    "    sns.histplot(data[x])\n",
    "    plt.show()\n",
    "    sns.boxplot(data=df, y=data[x])\n",
    "    plt.show\n",
    "    return my_value"
   ]
  },
  {
   "cell_type": "code",
   "execution_count": 13,
   "id": "4fb97c15",
   "metadata": {},
   "outputs": [
    {
     "data": {
      "text/plain": [
       "id                 int64\n",
       "price            float64\n",
       "bedrooms           int64\n",
       "bathrooms        float64\n",
       "sqft_living        int64\n",
       "sqft_lot           int64\n",
       "floors           float64\n",
       "waterfront         int64\n",
       "view               int64\n",
       "condition          int64\n",
       "grade              int64\n",
       "sqft_above         int64\n",
       "sqft_basement      int64\n",
       "yr_built           int64\n",
       "yr_renovated       int64\n",
       "zipcode            int64\n",
       "lat              float64\n",
       "long             float64\n",
       "sqft_living15      int64\n",
       "sqft_lot15         int64\n",
       "house_yr           int64\n",
       "dtype: object"
      ]
     },
     "execution_count": 13,
     "metadata": {},
     "output_type": "execute_result"
    }
   ],
   "source": [
    "df.dtypes"
   ]
  },
  {
   "cell_type": "code",
   "execution_count": 14,
   "id": "49a592df",
   "metadata": {},
   "outputs": [
    {
     "data": {
      "image/png": "[encoded data removed]",
      "text/plain": [
       "<Figure size 432x288 with 1 Axes>"
      ]
     },
     "metadata": {
      "needs_background": "light"
     },
     "output_type": "display_data"
    },
    {
     "data": {
      "text/plain": [
       "{'missing': 0,\n",
       " 'min': 1000102,\n",
       " 'max': 9900000190,\n",
       " 'mean': 4580301520.86,\n",
       " 'var': 8.274629486057814e+18,\n",
       " 'std': 2876565571.31,\n",
       " 'range': 9899000088,\n",
       " 'q1': 2123049194.0,\n",
       " 'q2': 3904930410.0,\n",
       " 'q3': 7308900445.0,\n",
       " 'skewness': 0.24,\n",
       " 'kurtosis': -1.26}"
      ]
     },
     "execution_count": 14,
     "metadata": {},
     "output_type": "execute_result"
    },
    {
     "data": {
      "image/png": "[encoded data removed]",
      "text/plain": [
       "<Figure size 432x288 with 1 Axes>"
      ]
     },
     "metadata": {
      "needs_background": "light"
     },
     "output_type": "display_data"
    }
   ],
   "source": [
    "univariate_num(data=df, x=\"id\")"
   ]
  },
  {
   "cell_type": "code",
   "execution_count": 15,
   "id": "a08fdce5",
   "metadata": {},
   "outputs": [
    {
     "data": {
      "image/png": "[encoded data removed]",
      "text/plain": [
       "<Figure size 432x288 with 1 Axes>"
      ]
     },
     "metadata": {
      "needs_background": "light"
     },
     "output_type": "display_data"
    },
    {
     "data": {
      "text/plain": [
       "{'missing': 0,\n",
       " 'min': 75000.0,\n",
       " 'max': 7700000.0,\n",
       " 'mean': 540088.14,\n",
       " 'var': 134782378397.25,\n",
       " 'std': 367127.2,\n",
       " 'range': 7625000.0,\n",
       " 'q1': 321950.0,\n",
       " 'q2': 450000.0,\n",
       " 'q3': 645000.0,\n",
       " 'skewness': 4.02,\n",
       " 'kurtosis': 34.59}"
      ]
     },
     "execution_count": 15,
     "metadata": {},
     "output_type": "execute_result"
    },
    {
     "data": {
      "image/png": "[encoded data removed]",
      "text/plain": [
       "<Figure size 432x288 with 1 Axes>"
      ]
     },
     "metadata": {
      "needs_background": "light"
     },
     "output_type": "display_data"
    }
   ],
   "source": [
    "univariate_num(data=df, x=\"price\")"
   ]
  },
  {
   "cell_type": "markdown",
   "id": "aff9ca93",
   "metadata": {},
   "source": [
    "Price\n",
    "* no missing values\n",
    "* minimum house price is 75000 and max is 7700000\n",
    "* avg house price is  540088.14\n",
    "* Outliers in price (column)"
   ]
  },
  {
   "cell_type": "code",
   "execution_count": 16,
   "id": "5eefc025",
   "metadata": {},
   "outputs": [
    {
     "data": {
      "image/png": "[encoded data removed]",
      "text/plain": [
       "<Figure size 432x288 with 1 Axes>"
      ]
     },
     "metadata": {
      "needs_background": "light"
     },
     "output_type": "display_data"
    },
    {
     "data": {
      "text/plain": [
       "{'missing': 0,\n",
       " 'min': 0,\n",
       " 'max': 33,\n",
       " 'mean': 3.37,\n",
       " 'var': 0.87,\n",
       " 'std': 0.93,\n",
       " 'range': 33,\n",
       " 'q1': 3.0,\n",
       " 'q2': 3.0,\n",
       " 'q3': 4.0,\n",
       " 'skewness': 1.97,\n",
       " 'kurtosis': 49.06}"
      ]
     },
     "execution_count": 16,
     "metadata": {},
     "output_type": "execute_result"
    },
    {
     "data": {
      "image/png": "[encoded data removed]",
      "text/plain": [
       "<Figure size 432x288 with 1 Axes>"
      ]
     },
     "metadata": {
      "needs_background": "light"
     },
     "output_type": "display_data"
    }
   ],
   "source": [
    "univariate_num(data=df, x=\"bedrooms\")"
   ]
  },
  {
   "cell_type": "markdown",
   "id": "ff40f862",
   "metadata": {},
   "source": [
    "* in bedroom column up and down both side outliers"
   ]
  },
  {
   "cell_type": "code",
   "execution_count": 17,
   "id": "269195b3",
   "metadata": {},
   "outputs": [
    {
     "data": {
      "image/png": "[encoded data removed]",
      "text/plain": [
       "<Figure size 432x288 with 1 Axes>"
      ]
     },
     "metadata": {
      "needs_background": "light"
     },
     "output_type": "display_data"
    },
    {
     "data": {
      "text/plain": [
       "{'missing': 0,\n",
       " 'min': 0.0,\n",
       " 'max': 8.0,\n",
       " 'mean': 2.11,\n",
       " 'var': 0.59,\n",
       " 'std': 0.77,\n",
       " 'range': 8.0,\n",
       " 'q1': 1.75,\n",
       " 'q2': 2.25,\n",
       " 'q3': 2.5,\n",
       " 'skewness': 0.51,\n",
       " 'kurtosis': 1.28}"
      ]
     },
     "execution_count": 17,
     "metadata": {},
     "output_type": "execute_result"
    },
    {
     "data": {
      "image/png": "[encoded data removed]",
      "text/plain": [
       "<Figure size 432x288 with 1 Axes>"
      ]
     },
     "metadata": {
      "needs_background": "light"
     },
     "output_type": "display_data"
    }
   ],
   "source": [
    "univariate_num(data=df, x=\"bathrooms\")"
   ]
  },
  {
   "cell_type": "markdown",
   "id": "cffc6115",
   "metadata": {},
   "source": [
    "* outliers in bathrooms column"
   ]
  },
  {
   "cell_type": "code",
   "execution_count": 18,
   "id": "44d97bed",
   "metadata": {},
   "outputs": [
    {
     "data": {
      "image/png": "[encoded data removed]",
      "text/plain": [
       "<Figure size 432x288 with 1 Axes>"
      ]
     },
     "metadata": {
      "needs_background": "light"
     },
     "output_type": "display_data"
    },
    {
     "data": {
      "text/plain": [
       "{'missing': 0,\n",
       " 'min': 290,\n",
       " 'max': 13540,\n",
       " 'mean': 2079.9,\n",
       " 'var': 843533.68,\n",
       " 'std': 918.44,\n",
       " 'range': 13250,\n",
       " 'q1': 1427.0,\n",
       " 'q2': 1910.0,\n",
       " 'q3': 2550.0,\n",
       " 'skewness': 1.47,\n",
       " 'kurtosis': 5.24}"
      ]
     },
     "execution_count": 18,
     "metadata": {},
     "output_type": "execute_result"
    },
    {
     "data": {
      "image/png": "[encoded data removed]",
      "text/plain": [
       "<Figure size 432x288 with 1 Axes>"
      ]
     },
     "metadata": {
      "needs_background": "light"
     },
     "output_type": "display_data"
    }
   ],
   "source": [
    "univariate_num(data=df, x=\"sqft_living\")"
   ]
  },
  {
   "cell_type": "markdown",
   "id": "1019ae22",
   "metadata": {},
   "source": [
    "* positive skewed \n",
    "* outliers upper side"
   ]
  },
  {
   "cell_type": "code",
   "execution_count": 19,
   "id": "932ba374",
   "metadata": {},
   "outputs": [
    {
     "data": {
      "image/png": "[encoded data removed]",
      "text/plain": [
       "<Figure size 432x288 with 1 Axes>"
      ]
     },
     "metadata": {
      "needs_background": "light"
     },
     "output_type": "display_data"
    },
    {
     "data": {
      "text/plain": [
       "{'missing': 0,\n",
       " 'min': 1,\n",
       " 'max': 13,\n",
       " 'mean': 7.66,\n",
       " 'var': 1.38,\n",
       " 'std': 1.18,\n",
       " 'range': 12,\n",
       " 'q1': 7.0,\n",
       " 'q2': 7.0,\n",
       " 'q3': 8.0,\n",
       " 'skewness': 0.77,\n",
       " 'kurtosis': 1.19}"
      ]
     },
     "execution_count": 19,
     "metadata": {},
     "output_type": "execute_result"
    },
    {
     "data": {
      "image/png": "[encoded data removed]",
      "text/plain": [
       "<Figure size 432x288 with 1 Axes>"
      ]
     },
     "metadata": {
      "needs_background": "light"
     },
     "output_type": "display_data"
    }
   ],
   "source": [
    "univariate_num(data=df, x=\"grade\")"
   ]
  },
  {
   "cell_type": "markdown",
   "id": "4bbaf40d",
   "metadata": {},
   "source": [
    "#### Bivariate Analysis\n",
    "* cat-cat\n",
    "* cat-num/num-cat\n",
    "* num-num"
   ]
  },
  {
   "cell_type": "code",
   "execution_count": 20,
   "id": "d5f494b5",
   "metadata": {},
   "outputs": [
    {
     "data": {
      "text/html": [
       "<div>\n",
       "<style scoped>\n",
       "    .dataframe tbody tr th:only-of-type {\n",
       "        vertical-align: middle;\n",
       "    }\n",
       "\n",
       "    .dataframe tbody tr th {\n",
       "        vertical-align: top;\n",
       "    }\n",
       "\n",
       "    .dataframe thead th {\n",
       "        text-align: right;\n",
       "    }\n",
       "</style>\n",
       "<table border=\"1\" class=\"dataframe\">\n",
       "  <thead>\n",
       "    <tr style=\"text-align: right;\">\n",
       "      <th></th>\n",
       "      <th>id</th>\n",
       "      <th>price</th>\n",
       "      <th>bedrooms</th>\n",
       "      <th>bathrooms</th>\n",
       "      <th>sqft_living</th>\n",
       "      <th>sqft_lot</th>\n",
       "      <th>floors</th>\n",
       "      <th>waterfront</th>\n",
       "      <th>view</th>\n",
       "      <th>condition</th>\n",
       "      <th>...</th>\n",
       "      <th>sqft_above</th>\n",
       "      <th>sqft_basement</th>\n",
       "      <th>yr_built</th>\n",
       "      <th>yr_renovated</th>\n",
       "      <th>zipcode</th>\n",
       "      <th>lat</th>\n",
       "      <th>long</th>\n",
       "      <th>sqft_living15</th>\n",
       "      <th>sqft_lot15</th>\n",
       "      <th>house_yr</th>\n",
       "    </tr>\n",
       "  </thead>\n",
       "  <tbody>\n",
       "    <tr>\n",
       "      <th>0</th>\n",
       "      <td>7129300520</td>\n",
       "      <td>221900.0</td>\n",
       "      <td>3</td>\n",
       "      <td>1.00</td>\n",
       "      <td>1180</td>\n",
       "      <td>5650</td>\n",
       "      <td>1.0</td>\n",
       "      <td>0</td>\n",
       "      <td>0</td>\n",
       "      <td>3</td>\n",
       "      <td>...</td>\n",
       "      <td>1180</td>\n",
       "      <td>0</td>\n",
       "      <td>1955</td>\n",
       "      <td>0</td>\n",
       "      <td>98178</td>\n",
       "      <td>47.5112</td>\n",
       "      <td>-122.257</td>\n",
       "      <td>1340</td>\n",
       "      <td>5650</td>\n",
       "      <td>67</td>\n",
       "    </tr>\n",
       "    <tr>\n",
       "      <th>1</th>\n",
       "      <td>6414100192</td>\n",
       "      <td>538000.0</td>\n",
       "      <td>3</td>\n",
       "      <td>2.25</td>\n",
       "      <td>2570</td>\n",
       "      <td>7242</td>\n",
       "      <td>2.0</td>\n",
       "      <td>0</td>\n",
       "      <td>0</td>\n",
       "      <td>3</td>\n",
       "      <td>...</td>\n",
       "      <td>2170</td>\n",
       "      <td>400</td>\n",
       "      <td>1951</td>\n",
       "      <td>1991</td>\n",
       "      <td>98125</td>\n",
       "      <td>47.7210</td>\n",
       "      <td>-122.319</td>\n",
       "      <td>1690</td>\n",
       "      <td>7639</td>\n",
       "      <td>71</td>\n",
       "    </tr>\n",
       "    <tr>\n",
       "      <th>2</th>\n",
       "      <td>5631500400</td>\n",
       "      <td>180000.0</td>\n",
       "      <td>2</td>\n",
       "      <td>1.00</td>\n",
       "      <td>770</td>\n",
       "      <td>10000</td>\n",
       "      <td>1.0</td>\n",
       "      <td>0</td>\n",
       "      <td>0</td>\n",
       "      <td>3</td>\n",
       "      <td>...</td>\n",
       "      <td>770</td>\n",
       "      <td>0</td>\n",
       "      <td>1933</td>\n",
       "      <td>0</td>\n",
       "      <td>98028</td>\n",
       "      <td>47.7379</td>\n",
       "      <td>-122.233</td>\n",
       "      <td>2720</td>\n",
       "      <td>8062</td>\n",
       "      <td>89</td>\n",
       "    </tr>\n",
       "    <tr>\n",
       "      <th>3</th>\n",
       "      <td>2487200875</td>\n",
       "      <td>604000.0</td>\n",
       "      <td>4</td>\n",
       "      <td>3.00</td>\n",
       "      <td>1960</td>\n",
       "      <td>5000</td>\n",
       "      <td>1.0</td>\n",
       "      <td>0</td>\n",
       "      <td>0</td>\n",
       "      <td>5</td>\n",
       "      <td>...</td>\n",
       "      <td>1050</td>\n",
       "      <td>910</td>\n",
       "      <td>1965</td>\n",
       "      <td>0</td>\n",
       "      <td>98136</td>\n",
       "      <td>47.5208</td>\n",
       "      <td>-122.393</td>\n",
       "      <td>1360</td>\n",
       "      <td>5000</td>\n",
       "      <td>57</td>\n",
       "    </tr>\n",
       "    <tr>\n",
       "      <th>4</th>\n",
       "      <td>1954400510</td>\n",
       "      <td>510000.0</td>\n",
       "      <td>3</td>\n",
       "      <td>2.00</td>\n",
       "      <td>1680</td>\n",
       "      <td>8080</td>\n",
       "      <td>1.0</td>\n",
       "      <td>0</td>\n",
       "      <td>0</td>\n",
       "      <td>3</td>\n",
       "      <td>...</td>\n",
       "      <td>1680</td>\n",
       "      <td>0</td>\n",
       "      <td>1987</td>\n",
       "      <td>0</td>\n",
       "      <td>98074</td>\n",
       "      <td>47.6168</td>\n",
       "      <td>-122.045</td>\n",
       "      <td>1800</td>\n",
       "      <td>7503</td>\n",
       "      <td>35</td>\n",
       "    </tr>\n",
       "    <tr>\n",
       "      <th>...</th>\n",
       "      <td>...</td>\n",
       "      <td>...</td>\n",
       "      <td>...</td>\n",
       "      <td>...</td>\n",
       "      <td>...</td>\n",
       "      <td>...</td>\n",
       "      <td>...</td>\n",
       "      <td>...</td>\n",
       "      <td>...</td>\n",
       "      <td>...</td>\n",
       "      <td>...</td>\n",
       "      <td>...</td>\n",
       "      <td>...</td>\n",
       "      <td>...</td>\n",
       "      <td>...</td>\n",
       "      <td>...</td>\n",
       "      <td>...</td>\n",
       "      <td>...</td>\n",
       "      <td>...</td>\n",
       "      <td>...</td>\n",
       "      <td>...</td>\n",
       "    </tr>\n",
       "    <tr>\n",
       "      <th>21608</th>\n",
       "      <td>263000018</td>\n",
       "      <td>360000.0</td>\n",
       "      <td>3</td>\n",
       "      <td>2.50</td>\n",
       "      <td>1530</td>\n",
       "      <td>1131</td>\n",
       "      <td>3.0</td>\n",
       "      <td>0</td>\n",
       "      <td>0</td>\n",
       "      <td>3</td>\n",
       "      <td>...</td>\n",
       "      <td>1530</td>\n",
       "      <td>0</td>\n",
       "      <td>2009</td>\n",
       "      <td>0</td>\n",
       "      <td>98103</td>\n",
       "      <td>47.6993</td>\n",
       "      <td>-122.346</td>\n",
       "      <td>1530</td>\n",
       "      <td>1509</td>\n",
       "      <td>13</td>\n",
       "    </tr>\n",
       "    <tr>\n",
       "      <th>21609</th>\n",
       "      <td>6600060120</td>\n",
       "      <td>400000.0</td>\n",
       "      <td>4</td>\n",
       "      <td>2.50</td>\n",
       "      <td>2310</td>\n",
       "      <td>5813</td>\n",
       "      <td>2.0</td>\n",
       "      <td>0</td>\n",
       "      <td>0</td>\n",
       "      <td>3</td>\n",
       "      <td>...</td>\n",
       "      <td>2310</td>\n",
       "      <td>0</td>\n",
       "      <td>2014</td>\n",
       "      <td>0</td>\n",
       "      <td>98146</td>\n",
       "      <td>47.5107</td>\n",
       "      <td>-122.362</td>\n",
       "      <td>1830</td>\n",
       "      <td>7200</td>\n",
       "      <td>8</td>\n",
       "    </tr>\n",
       "    <tr>\n",
       "      <th>21610</th>\n",
       "      <td>1523300141</td>\n",
       "      <td>402101.0</td>\n",
       "      <td>2</td>\n",
       "      <td>0.75</td>\n",
       "      <td>1020</td>\n",
       "      <td>1350</td>\n",
       "      <td>2.0</td>\n",
       "      <td>0</td>\n",
       "      <td>0</td>\n",
       "      <td>3</td>\n",
       "      <td>...</td>\n",
       "      <td>1020</td>\n",
       "      <td>0</td>\n",
       "      <td>2009</td>\n",
       "      <td>0</td>\n",
       "      <td>98144</td>\n",
       "      <td>47.5944</td>\n",
       "      <td>-122.299</td>\n",
       "      <td>1020</td>\n",
       "      <td>2007</td>\n",
       "      <td>13</td>\n",
       "    </tr>\n",
       "    <tr>\n",
       "      <th>21611</th>\n",
       "      <td>291310100</td>\n",
       "      <td>400000.0</td>\n",
       "      <td>3</td>\n",
       "      <td>2.50</td>\n",
       "      <td>1600</td>\n",
       "      <td>2388</td>\n",
       "      <td>2.0</td>\n",
       "      <td>0</td>\n",
       "      <td>0</td>\n",
       "      <td>3</td>\n",
       "      <td>...</td>\n",
       "      <td>1600</td>\n",
       "      <td>0</td>\n",
       "      <td>2004</td>\n",
       "      <td>0</td>\n",
       "      <td>98027</td>\n",
       "      <td>47.5345</td>\n",
       "      <td>-122.069</td>\n",
       "      <td>1410</td>\n",
       "      <td>1287</td>\n",
       "      <td>18</td>\n",
       "    </tr>\n",
       "    <tr>\n",
       "      <th>21612</th>\n",
       "      <td>1523300157</td>\n",
       "      <td>325000.0</td>\n",
       "      <td>2</td>\n",
       "      <td>0.75</td>\n",
       "      <td>1020</td>\n",
       "      <td>1076</td>\n",
       "      <td>2.0</td>\n",
       "      <td>0</td>\n",
       "      <td>0</td>\n",
       "      <td>3</td>\n",
       "      <td>...</td>\n",
       "      <td>1020</td>\n",
       "      <td>0</td>\n",
       "      <td>2008</td>\n",
       "      <td>0</td>\n",
       "      <td>98144</td>\n",
       "      <td>47.5941</td>\n",
       "      <td>-122.299</td>\n",
       "      <td>1020</td>\n",
       "      <td>1357</td>\n",
       "      <td>14</td>\n",
       "    </tr>\n",
       "  </tbody>\n",
       "</table>\n",
       "<p>21613 rows × 21 columns</p>\n",
       "</div>"
      ],
      "text/plain": [
       "               id     price  bedrooms  bathrooms  sqft_living  sqft_lot  \\\n",
       "0      7129300520  221900.0         3       1.00         1180      5650   \n",
       "1      6414100192  538000.0         3       2.25         2570      7242   \n",
       "2      5631500400  180000.0         2       1.00          770     10000   \n",
       "3      2487200875  604000.0         4       3.00         1960      5000   \n",
       "4      1954400510  510000.0         3       2.00         1680      8080   \n",
       "...           ...       ...       ...        ...          ...       ...   \n",
       "21608   263000018  360000.0         3       2.50         1530      1131   \n",
       "21609  6600060120  400000.0         4       2.50         2310      5813   \n",
       "21610  1523300141  402101.0         2       0.75         1020      1350   \n",
       "21611   291310100  400000.0         3       2.50         1600      2388   \n",
       "21612  1523300157  325000.0         2       0.75         1020      1076   \n",
       "\n",
       "       floors  waterfront  view  condition  ...  sqft_above  sqft_basement  \\\n",
       "0         1.0           0     0          3  ...        1180              0   \n",
       "1         2.0           0     0          3  ...        2170            400   \n",
       "2         1.0           0     0          3  ...         770              0   \n",
       "3         1.0           0     0          5  ...        1050            910   \n",
       "4         1.0           0     0          3  ...        1680              0   \n",
       "...       ...         ...   ...        ...  ...         ...            ...   \n",
       "21608     3.0           0     0          3  ...        1530              0   \n",
       "21609     2.0           0     0          3  ...        2310              0   \n",
       "21610     2.0           0     0          3  ...        1020              0   \n",
       "21611     2.0           0     0          3  ...        1600              0   \n",
       "21612     2.0           0     0          3  ...        1020              0   \n",
       "\n",
       "       yr_built  yr_renovated  zipcode      lat     long  sqft_living15  \\\n",
       "0          1955             0    98178  47.5112 -122.257           1340   \n",
       "1          1951          1991    98125  47.7210 -122.319           1690   \n",
       "2          1933             0    98028  47.7379 -122.233           2720   \n",
       "3          1965             0    98136  47.5208 -122.393           1360   \n",
       "4          1987             0    98074  47.6168 -122.045           1800   \n",
       "...         ...           ...      ...      ...      ...            ...   \n",
       "21608      2009             0    98103  47.6993 -122.346           1530   \n",
       "21609      2014             0    98146  47.5107 -122.362           1830   \n",
       "21610      2009             0    98144  47.5944 -122.299           1020   \n",
       "21611      2004             0    98027  47.5345 -122.069           1410   \n",
       "21612      2008             0    98144  47.5941 -122.299           1020   \n",
       "\n",
       "       sqft_lot15  house_yr  \n",
       "0            5650        67  \n",
       "1            7639        71  \n",
       "2            8062        89  \n",
       "3            5000        57  \n",
       "4            7503        35  \n",
       "...           ...       ...  \n",
       "21608        1509        13  \n",
       "21609        7200         8  \n",
       "21610        2007        13  \n",
       "21611        1287        18  \n",
       "21612        1357        14  \n",
       "\n",
       "[21613 rows x 21 columns]"
      ]
     },
     "execution_count": 20,
     "metadata": {},
     "output_type": "execute_result"
    }
   ],
   "source": [
    "df"
   ]
  },
  {
   "cell_type": "markdown",
   "id": "493cb733",
   "metadata": {},
   "source": [
    "* Price does not even depend on id so we can drop \n",
    "\n",
    "  and also lat , long , zipcode not depend on price\n",
    "  \n",
    "* we uses house_yr old so we can drop yr_built"
   ]
  },
  {
   "cell_type": "code",
   "execution_count": 21,
   "id": "642fad00",
   "metadata": {},
   "outputs": [],
   "source": [
    "df.drop(columns=[\"lat\", \"long\", \"zipcode\", \"id\"], inplace=True)"
   ]
  },
  {
   "cell_type": "code",
   "execution_count": 22,
   "id": "2b0fd66a",
   "metadata": {},
   "outputs": [],
   "source": [
    "df.drop(columns=[\"yr_built\"], inplace=True)"
   ]
  },
  {
   "cell_type": "code",
   "execution_count": 23,
   "id": "9b701e35",
   "metadata": {},
   "outputs": [
    {
     "data": {
      "text/html": [
       "<div>\n",
       "<style scoped>\n",
       "    .dataframe tbody tr th:only-of-type {\n",
       "        vertical-align: middle;\n",
       "    }\n",
       "\n",
       "    .dataframe tbody tr th {\n",
       "        vertical-align: top;\n",
       "    }\n",
       "\n",
       "    .dataframe thead th {\n",
       "        text-align: right;\n",
       "    }\n",
       "</style>\n",
       "<table border=\"1\" class=\"dataframe\">\n",
       "  <thead>\n",
       "    <tr style=\"text-align: right;\">\n",
       "      <th></th>\n",
       "      <th>price</th>\n",
       "      <th>bedrooms</th>\n",
       "      <th>bathrooms</th>\n",
       "      <th>sqft_living</th>\n",
       "      <th>sqft_lot</th>\n",
       "      <th>floors</th>\n",
       "      <th>waterfront</th>\n",
       "      <th>view</th>\n",
       "      <th>condition</th>\n",
       "      <th>grade</th>\n",
       "      <th>sqft_above</th>\n",
       "      <th>sqft_basement</th>\n",
       "      <th>yr_renovated</th>\n",
       "      <th>sqft_living15</th>\n",
       "      <th>sqft_lot15</th>\n",
       "      <th>house_yr</th>\n",
       "    </tr>\n",
       "  </thead>\n",
       "  <tbody>\n",
       "    <tr>\n",
       "      <th>0</th>\n",
       "      <td>221900.0</td>\n",
       "      <td>3</td>\n",
       "      <td>1.00</td>\n",
       "      <td>1180</td>\n",
       "      <td>5650</td>\n",
       "      <td>1.0</td>\n",
       "      <td>0</td>\n",
       "      <td>0</td>\n",
       "      <td>3</td>\n",
       "      <td>7</td>\n",
       "      <td>1180</td>\n",
       "      <td>0</td>\n",
       "      <td>0</td>\n",
       "      <td>1340</td>\n",
       "      <td>5650</td>\n",
       "      <td>67</td>\n",
       "    </tr>\n",
       "    <tr>\n",
       "      <th>1</th>\n",
       "      <td>538000.0</td>\n",
       "      <td>3</td>\n",
       "      <td>2.25</td>\n",
       "      <td>2570</td>\n",
       "      <td>7242</td>\n",
       "      <td>2.0</td>\n",
       "      <td>0</td>\n",
       "      <td>0</td>\n",
       "      <td>3</td>\n",
       "      <td>7</td>\n",
       "      <td>2170</td>\n",
       "      <td>400</td>\n",
       "      <td>1991</td>\n",
       "      <td>1690</td>\n",
       "      <td>7639</td>\n",
       "      <td>71</td>\n",
       "    </tr>\n",
       "    <tr>\n",
       "      <th>2</th>\n",
       "      <td>180000.0</td>\n",
       "      <td>2</td>\n",
       "      <td>1.00</td>\n",
       "      <td>770</td>\n",
       "      <td>10000</td>\n",
       "      <td>1.0</td>\n",
       "      <td>0</td>\n",
       "      <td>0</td>\n",
       "      <td>3</td>\n",
       "      <td>6</td>\n",
       "      <td>770</td>\n",
       "      <td>0</td>\n",
       "      <td>0</td>\n",
       "      <td>2720</td>\n",
       "      <td>8062</td>\n",
       "      <td>89</td>\n",
       "    </tr>\n",
       "    <tr>\n",
       "      <th>3</th>\n",
       "      <td>604000.0</td>\n",
       "      <td>4</td>\n",
       "      <td>3.00</td>\n",
       "      <td>1960</td>\n",
       "      <td>5000</td>\n",
       "      <td>1.0</td>\n",
       "      <td>0</td>\n",
       "      <td>0</td>\n",
       "      <td>5</td>\n",
       "      <td>7</td>\n",
       "      <td>1050</td>\n",
       "      <td>910</td>\n",
       "      <td>0</td>\n",
       "      <td>1360</td>\n",
       "      <td>5000</td>\n",
       "      <td>57</td>\n",
       "    </tr>\n",
       "    <tr>\n",
       "      <th>4</th>\n",
       "      <td>510000.0</td>\n",
       "      <td>3</td>\n",
       "      <td>2.00</td>\n",
       "      <td>1680</td>\n",
       "      <td>8080</td>\n",
       "      <td>1.0</td>\n",
       "      <td>0</td>\n",
       "      <td>0</td>\n",
       "      <td>3</td>\n",
       "      <td>8</td>\n",
       "      <td>1680</td>\n",
       "      <td>0</td>\n",
       "      <td>0</td>\n",
       "      <td>1800</td>\n",
       "      <td>7503</td>\n",
       "      <td>35</td>\n",
       "    </tr>\n",
       "    <tr>\n",
       "      <th>...</th>\n",
       "      <td>...</td>\n",
       "      <td>...</td>\n",
       "      <td>...</td>\n",
       "      <td>...</td>\n",
       "      <td>...</td>\n",
       "      <td>...</td>\n",
       "      <td>...</td>\n",
       "      <td>...</td>\n",
       "      <td>...</td>\n",
       "      <td>...</td>\n",
       "      <td>...</td>\n",
       "      <td>...</td>\n",
       "      <td>...</td>\n",
       "      <td>...</td>\n",
       "      <td>...</td>\n",
       "      <td>...</td>\n",
       "    </tr>\n",
       "    <tr>\n",
       "      <th>21608</th>\n",
       "      <td>360000.0</td>\n",
       "      <td>3</td>\n",
       "      <td>2.50</td>\n",
       "      <td>1530</td>\n",
       "      <td>1131</td>\n",
       "      <td>3.0</td>\n",
       "      <td>0</td>\n",
       "      <td>0</td>\n",
       "      <td>3</td>\n",
       "      <td>8</td>\n",
       "      <td>1530</td>\n",
       "      <td>0</td>\n",
       "      <td>0</td>\n",
       "      <td>1530</td>\n",
       "      <td>1509</td>\n",
       "      <td>13</td>\n",
       "    </tr>\n",
       "    <tr>\n",
       "      <th>21609</th>\n",
       "      <td>400000.0</td>\n",
       "      <td>4</td>\n",
       "      <td>2.50</td>\n",
       "      <td>2310</td>\n",
       "      <td>5813</td>\n",
       "      <td>2.0</td>\n",
       "      <td>0</td>\n",
       "      <td>0</td>\n",
       "      <td>3</td>\n",
       "      <td>8</td>\n",
       "      <td>2310</td>\n",
       "      <td>0</td>\n",
       "      <td>0</td>\n",
       "      <td>1830</td>\n",
       "      <td>7200</td>\n",
       "      <td>8</td>\n",
       "    </tr>\n",
       "    <tr>\n",
       "      <th>21610</th>\n",
       "      <td>402101.0</td>\n",
       "      <td>2</td>\n",
       "      <td>0.75</td>\n",
       "      <td>1020</td>\n",
       "      <td>1350</td>\n",
       "      <td>2.0</td>\n",
       "      <td>0</td>\n",
       "      <td>0</td>\n",
       "      <td>3</td>\n",
       "      <td>7</td>\n",
       "      <td>1020</td>\n",
       "      <td>0</td>\n",
       "      <td>0</td>\n",
       "      <td>1020</td>\n",
       "      <td>2007</td>\n",
       "      <td>13</td>\n",
       "    </tr>\n",
       "    <tr>\n",
       "      <th>21611</th>\n",
       "      <td>400000.0</td>\n",
       "      <td>3</td>\n",
       "      <td>2.50</td>\n",
       "      <td>1600</td>\n",
       "      <td>2388</td>\n",
       "      <td>2.0</td>\n",
       "      <td>0</td>\n",
       "      <td>0</td>\n",
       "      <td>3</td>\n",
       "      <td>8</td>\n",
       "      <td>1600</td>\n",
       "      <td>0</td>\n",
       "      <td>0</td>\n",
       "      <td>1410</td>\n",
       "      <td>1287</td>\n",
       "      <td>18</td>\n",
       "    </tr>\n",
       "    <tr>\n",
       "      <th>21612</th>\n",
       "      <td>325000.0</td>\n",
       "      <td>2</td>\n",
       "      <td>0.75</td>\n",
       "      <td>1020</td>\n",
       "      <td>1076</td>\n",
       "      <td>2.0</td>\n",
       "      <td>0</td>\n",
       "      <td>0</td>\n",
       "      <td>3</td>\n",
       "      <td>7</td>\n",
       "      <td>1020</td>\n",
       "      <td>0</td>\n",
       "      <td>0</td>\n",
       "      <td>1020</td>\n",
       "      <td>1357</td>\n",
       "      <td>14</td>\n",
       "    </tr>\n",
       "  </tbody>\n",
       "</table>\n",
       "<p>21613 rows × 16 columns</p>\n",
       "</div>"
      ],
      "text/plain": [
       "          price  bedrooms  bathrooms  sqft_living  sqft_lot  floors  \\\n",
       "0      221900.0         3       1.00         1180      5650     1.0   \n",
       "1      538000.0         3       2.25         2570      7242     2.0   \n",
       "2      180000.0         2       1.00          770     10000     1.0   \n",
       "3      604000.0         4       3.00         1960      5000     1.0   \n",
       "4      510000.0         3       2.00         1680      8080     1.0   \n",
       "...         ...       ...        ...          ...       ...     ...   \n",
       "21608  360000.0         3       2.50         1530      1131     3.0   \n",
       "21609  400000.0         4       2.50         2310      5813     2.0   \n",
       "21610  402101.0         2       0.75         1020      1350     2.0   \n",
       "21611  400000.0         3       2.50         1600      2388     2.0   \n",
       "21612  325000.0         2       0.75         1020      1076     2.0   \n",
       "\n",
       "       waterfront  view  condition  grade  sqft_above  sqft_basement  \\\n",
       "0               0     0          3      7        1180              0   \n",
       "1               0     0          3      7        2170            400   \n",
       "2               0     0          3      6         770              0   \n",
       "3               0     0          5      7        1050            910   \n",
       "4               0     0          3      8        1680              0   \n",
       "...           ...   ...        ...    ...         ...            ...   \n",
       "21608           0     0          3      8        1530              0   \n",
       "21609           0     0          3      8        2310              0   \n",
       "21610           0     0          3      7        1020              0   \n",
       "21611           0     0          3      8        1600              0   \n",
       "21612           0     0          3      7        1020              0   \n",
       "\n",
       "       yr_renovated  sqft_living15  sqft_lot15  house_yr  \n",
       "0                 0           1340        5650        67  \n",
       "1              1991           1690        7639        71  \n",
       "2                 0           2720        8062        89  \n",
       "3                 0           1360        5000        57  \n",
       "4                 0           1800        7503        35  \n",
       "...             ...            ...         ...       ...  \n",
       "21608             0           1530        1509        13  \n",
       "21609             0           1830        7200         8  \n",
       "21610             0           1020        2007        13  \n",
       "21611             0           1410        1287        18  \n",
       "21612             0           1020        1357        14  \n",
       "\n",
       "[21613 rows x 16 columns]"
      ]
     },
     "execution_count": 23,
     "metadata": {},
     "output_type": "execute_result"
    }
   ],
   "source": [
    "df"
   ]
  },
  {
   "cell_type": "code",
   "execution_count": 24,
   "id": "74ceb41f",
   "metadata": {},
   "outputs": [
    {
     "data": {
      "text/plain": [
       "<AxesSubplot:xlabel='grade', ylabel='price'>"
      ]
     },
     "execution_count": 24,
     "metadata": {},
     "output_type": "execute_result"
    },
    {
     "data": {
      "image/png": "[encoded data removed]",
      "text/plain": [
       "<Figure size 432x288 with 1 Axes>"
      ]
     },
     "metadata": {
      "needs_background": "light"
     },
     "output_type": "display_data"
    }
   ],
   "source": [
    "sns.scatterplot(data=df, x=df[\"grade\"], y=df[\"price\"])"
   ]
  },
  {
   "cell_type": "markdown",
   "id": "159ba5f1",
   "metadata": {},
   "source": [
    "* We see when grade increase price also increase \n"
   ]
  },
  {
   "cell_type": "code",
   "execution_count": 25,
   "id": "095c8e33",
   "metadata": {},
   "outputs": [
    {
     "data": {
      "text/plain": [
       "<AxesSubplot:xlabel='house_yr', ylabel='price'>"
      ]
     },
     "execution_count": 25,
     "metadata": {},
     "output_type": "execute_result"
    },
    {
     "data": {
      "image/png": "[encoded data removed]",
      "text/plain": [
       "<Figure size 432x288 with 1 Axes>"
      ]
     },
     "metadata": {
      "needs_background": "light"
     },
     "output_type": "display_data"
    }
   ],
   "source": [
    "sns.scatterplot(data=df, x=df[\"house_yr\"], y=df[\"price\"])"
   ]
  },
  {
   "cell_type": "markdown",
   "id": "fc72a5f1",
   "metadata": {},
   "source": [
    "* we see new house price is high "
   ]
  },
  {
   "cell_type": "code",
   "execution_count": 26,
   "id": "327e9bbd",
   "metadata": {},
   "outputs": [
    {
     "data": {
      "text/plain": [
       "<AxesSubplot:xlabel='condition', ylabel='price'>"
      ]
     },
     "execution_count": 26,
     "metadata": {},
     "output_type": "execute_result"
    },
    {
     "data": {
      "image/png": "[encoded data removed]",
      "text/plain": [
       "<Figure size 432x288 with 1 Axes>"
      ]
     },
     "metadata": {
      "needs_background": "light"
     },
     "output_type": "display_data"
    }
   ],
   "source": [
    "sns.scatterplot(data=df, x=df[\"condition\"], y=df[\"price\"])"
   ]
  },
  {
   "cell_type": "markdown",
   "id": "d2b20aa5",
   "metadata": {},
   "source": [
    "## Outliers treatment"
   ]
  },
  {
   "cell_type": "code",
   "execution_count": 27,
   "id": "83c274fe",
   "metadata": {},
   "outputs": [
    {
     "data": {
      "text/html": [
       "<div>\n",
       "<style scoped>\n",
       "    .dataframe tbody tr th:only-of-type {\n",
       "        vertical-align: middle;\n",
       "    }\n",
       "\n",
       "    .dataframe tbody tr th {\n",
       "        vertical-align: top;\n",
       "    }\n",
       "\n",
       "    .dataframe thead th {\n",
       "        text-align: right;\n",
       "    }\n",
       "</style>\n",
       "<table border=\"1\" class=\"dataframe\">\n",
       "  <thead>\n",
       "    <tr style=\"text-align: right;\">\n",
       "      <th></th>\n",
       "      <th>count</th>\n",
       "      <th>mean</th>\n",
       "      <th>std</th>\n",
       "      <th>min</th>\n",
       "      <th>1%</th>\n",
       "      <th>2%</th>\n",
       "      <th>3%</th>\n",
       "      <th>4%</th>\n",
       "      <th>5%</th>\n",
       "      <th>25%</th>\n",
       "      <th>50%</th>\n",
       "      <th>75%</th>\n",
       "      <th>90%</th>\n",
       "      <th>95%</th>\n",
       "      <th>96%</th>\n",
       "      <th>97%</th>\n",
       "      <th>98%</th>\n",
       "      <th>99%</th>\n",
       "      <th>max</th>\n",
       "    </tr>\n",
       "  </thead>\n",
       "  <tbody>\n",
       "    <tr>\n",
       "      <th>price</th>\n",
       "      <td>21613.0</td>\n",
       "      <td>540088.141767</td>\n",
       "      <td>367127.196483</td>\n",
       "      <td>75000.0</td>\n",
       "      <td>153500.36</td>\n",
       "      <td>175000.00</td>\n",
       "      <td>191342.00</td>\n",
       "      <td>202344.00</td>\n",
       "      <td>210000.0</td>\n",
       "      <td>321950.00</td>\n",
       "      <td>450000.00</td>\n",
       "      <td>645000.0</td>\n",
       "      <td>887000.0</td>\n",
       "      <td>1156480.0</td>\n",
       "      <td>1259040.00</td>\n",
       "      <td>1388000.00</td>\n",
       "      <td>1600000.00</td>\n",
       "      <td>1964400.00</td>\n",
       "      <td>7700000.0</td>\n",
       "    </tr>\n",
       "    <tr>\n",
       "      <th>bedrooms</th>\n",
       "      <td>21613.0</td>\n",
       "      <td>3.370842</td>\n",
       "      <td>0.930062</td>\n",
       "      <td>0.0</td>\n",
       "      <td>2.00</td>\n",
       "      <td>2.00</td>\n",
       "      <td>2.00</td>\n",
       "      <td>2.00</td>\n",
       "      <td>2.0</td>\n",
       "      <td>3.00</td>\n",
       "      <td>3.00</td>\n",
       "      <td>4.0</td>\n",
       "      <td>4.0</td>\n",
       "      <td>5.0</td>\n",
       "      <td>5.00</td>\n",
       "      <td>5.00</td>\n",
       "      <td>5.00</td>\n",
       "      <td>6.00</td>\n",
       "      <td>33.0</td>\n",
       "    </tr>\n",
       "    <tr>\n",
       "      <th>bathrooms</th>\n",
       "      <td>21613.0</td>\n",
       "      <td>2.114757</td>\n",
       "      <td>0.770163</td>\n",
       "      <td>0.0</td>\n",
       "      <td>1.00</td>\n",
       "      <td>1.00</td>\n",
       "      <td>1.00</td>\n",
       "      <td>1.00</td>\n",
       "      <td>1.0</td>\n",
       "      <td>1.75</td>\n",
       "      <td>2.25</td>\n",
       "      <td>2.5</td>\n",
       "      <td>3.0</td>\n",
       "      <td>3.5</td>\n",
       "      <td>3.50</td>\n",
       "      <td>3.50</td>\n",
       "      <td>3.75</td>\n",
       "      <td>4.25</td>\n",
       "      <td>8.0</td>\n",
       "    </tr>\n",
       "    <tr>\n",
       "      <th>sqft_living</th>\n",
       "      <td>21613.0</td>\n",
       "      <td>2079.899736</td>\n",
       "      <td>918.440897</td>\n",
       "      <td>290.0</td>\n",
       "      <td>720.00</td>\n",
       "      <td>790.00</td>\n",
       "      <td>840.00</td>\n",
       "      <td>900.00</td>\n",
       "      <td>940.0</td>\n",
       "      <td>1427.00</td>\n",
       "      <td>1910.00</td>\n",
       "      <td>2550.0</td>\n",
       "      <td>3250.0</td>\n",
       "      <td>3760.0</td>\n",
       "      <td>3920.00</td>\n",
       "      <td>4140.00</td>\n",
       "      <td>4410.00</td>\n",
       "      <td>4978.80</td>\n",
       "      <td>13540.0</td>\n",
       "    </tr>\n",
       "    <tr>\n",
       "      <th>sqft_lot</th>\n",
       "      <td>21613.0</td>\n",
       "      <td>15106.967566</td>\n",
       "      <td>41420.511515</td>\n",
       "      <td>520.0</td>\n",
       "      <td>1013.12</td>\n",
       "      <td>1184.00</td>\n",
       "      <td>1305.36</td>\n",
       "      <td>1489.48</td>\n",
       "      <td>1800.0</td>\n",
       "      <td>5040.00</td>\n",
       "      <td>7618.00</td>\n",
       "      <td>10688.0</td>\n",
       "      <td>21397.6</td>\n",
       "      <td>43339.2</td>\n",
       "      <td>50658.16</td>\n",
       "      <td>67436.84</td>\n",
       "      <td>107157.00</td>\n",
       "      <td>213008.00</td>\n",
       "      <td>1651359.0</td>\n",
       "    </tr>\n",
       "    <tr>\n",
       "      <th>floors</th>\n",
       "      <td>21613.0</td>\n",
       "      <td>1.494309</td>\n",
       "      <td>0.539989</td>\n",
       "      <td>1.0</td>\n",
       "      <td>1.00</td>\n",
       "      <td>1.00</td>\n",
       "      <td>1.00</td>\n",
       "      <td>1.00</td>\n",
       "      <td>1.0</td>\n",
       "      <td>1.00</td>\n",
       "      <td>1.50</td>\n",
       "      <td>2.0</td>\n",
       "      <td>2.0</td>\n",
       "      <td>2.0</td>\n",
       "      <td>2.00</td>\n",
       "      <td>2.50</td>\n",
       "      <td>3.00</td>\n",
       "      <td>3.00</td>\n",
       "      <td>3.5</td>\n",
       "    </tr>\n",
       "    <tr>\n",
       "      <th>waterfront</th>\n",
       "      <td>21613.0</td>\n",
       "      <td>0.007542</td>\n",
       "      <td>0.086517</td>\n",
       "      <td>0.0</td>\n",
       "      <td>0.00</td>\n",
       "      <td>0.00</td>\n",
       "      <td>0.00</td>\n",
       "      <td>0.00</td>\n",
       "      <td>0.0</td>\n",
       "      <td>0.00</td>\n",
       "      <td>0.00</td>\n",
       "      <td>0.0</td>\n",
       "      <td>0.0</td>\n",
       "      <td>0.0</td>\n",
       "      <td>0.00</td>\n",
       "      <td>0.00</td>\n",
       "      <td>0.00</td>\n",
       "      <td>0.00</td>\n",
       "      <td>1.0</td>\n",
       "    </tr>\n",
       "    <tr>\n",
       "      <th>view</th>\n",
       "      <td>21613.0</td>\n",
       "      <td>0.234303</td>\n",
       "      <td>0.766318</td>\n",
       "      <td>0.0</td>\n",
       "      <td>0.00</td>\n",
       "      <td>0.00</td>\n",
       "      <td>0.00</td>\n",
       "      <td>0.00</td>\n",
       "      <td>0.0</td>\n",
       "      <td>0.00</td>\n",
       "      <td>0.00</td>\n",
       "      <td>0.0</td>\n",
       "      <td>0.0</td>\n",
       "      <td>2.0</td>\n",
       "      <td>2.00</td>\n",
       "      <td>3.00</td>\n",
       "      <td>3.00</td>\n",
       "      <td>4.00</td>\n",
       "      <td>4.0</td>\n",
       "    </tr>\n",
       "    <tr>\n",
       "      <th>condition</th>\n",
       "      <td>21613.0</td>\n",
       "      <td>3.409430</td>\n",
       "      <td>0.650743</td>\n",
       "      <td>1.0</td>\n",
       "      <td>3.00</td>\n",
       "      <td>3.00</td>\n",
       "      <td>3.00</td>\n",
       "      <td>3.00</td>\n",
       "      <td>3.0</td>\n",
       "      <td>3.00</td>\n",
       "      <td>3.00</td>\n",
       "      <td>4.0</td>\n",
       "      <td>4.0</td>\n",
       "      <td>5.0</td>\n",
       "      <td>5.00</td>\n",
       "      <td>5.00</td>\n",
       "      <td>5.00</td>\n",
       "      <td>5.00</td>\n",
       "      <td>5.0</td>\n",
       "    </tr>\n",
       "    <tr>\n",
       "      <th>grade</th>\n",
       "      <td>21613.0</td>\n",
       "      <td>7.656873</td>\n",
       "      <td>1.175459</td>\n",
       "      <td>1.0</td>\n",
       "      <td>5.00</td>\n",
       "      <td>6.00</td>\n",
       "      <td>6.00</td>\n",
       "      <td>6.00</td>\n",
       "      <td>6.0</td>\n",
       "      <td>7.00</td>\n",
       "      <td>7.00</td>\n",
       "      <td>8.0</td>\n",
       "      <td>9.0</td>\n",
       "      <td>10.0</td>\n",
       "      <td>10.00</td>\n",
       "      <td>10.00</td>\n",
       "      <td>11.00</td>\n",
       "      <td>11.00</td>\n",
       "      <td>13.0</td>\n",
       "    </tr>\n",
       "    <tr>\n",
       "      <th>sqft_above</th>\n",
       "      <td>21613.0</td>\n",
       "      <td>1788.390691</td>\n",
       "      <td>828.090978</td>\n",
       "      <td>290.0</td>\n",
       "      <td>700.00</td>\n",
       "      <td>750.00</td>\n",
       "      <td>790.00</td>\n",
       "      <td>820.00</td>\n",
       "      <td>850.0</td>\n",
       "      <td>1190.00</td>\n",
       "      <td>1560.00</td>\n",
       "      <td>2210.0</td>\n",
       "      <td>2950.0</td>\n",
       "      <td>3400.0</td>\n",
       "      <td>3520.00</td>\n",
       "      <td>3700.00</td>\n",
       "      <td>3970.00</td>\n",
       "      <td>4370.00</td>\n",
       "      <td>9410.0</td>\n",
       "    </tr>\n",
       "    <tr>\n",
       "      <th>sqft_basement</th>\n",
       "      <td>21613.0</td>\n",
       "      <td>291.509045</td>\n",
       "      <td>442.575043</td>\n",
       "      <td>0.0</td>\n",
       "      <td>0.00</td>\n",
       "      <td>0.00</td>\n",
       "      <td>0.00</td>\n",
       "      <td>0.00</td>\n",
       "      <td>0.0</td>\n",
       "      <td>0.00</td>\n",
       "      <td>0.00</td>\n",
       "      <td>560.0</td>\n",
       "      <td>970.0</td>\n",
       "      <td>1190.0</td>\n",
       "      <td>1250.00</td>\n",
       "      <td>1340.00</td>\n",
       "      <td>1450.00</td>\n",
       "      <td>1660.00</td>\n",
       "      <td>4820.0</td>\n",
       "    </tr>\n",
       "    <tr>\n",
       "      <th>yr_renovated</th>\n",
       "      <td>21613.0</td>\n",
       "      <td>84.402258</td>\n",
       "      <td>401.679240</td>\n",
       "      <td>0.0</td>\n",
       "      <td>0.00</td>\n",
       "      <td>0.00</td>\n",
       "      <td>0.00</td>\n",
       "      <td>0.00</td>\n",
       "      <td>0.0</td>\n",
       "      <td>0.00</td>\n",
       "      <td>0.00</td>\n",
       "      <td>0.0</td>\n",
       "      <td>0.0</td>\n",
       "      <td>0.0</td>\n",
       "      <td>1965.00</td>\n",
       "      <td>1989.00</td>\n",
       "      <td>2000.00</td>\n",
       "      <td>2008.00</td>\n",
       "      <td>2015.0</td>\n",
       "    </tr>\n",
       "    <tr>\n",
       "      <th>sqft_living15</th>\n",
       "      <td>21613.0</td>\n",
       "      <td>1986.552492</td>\n",
       "      <td>685.391304</td>\n",
       "      <td>399.0</td>\n",
       "      <td>950.00</td>\n",
       "      <td>1020.00</td>\n",
       "      <td>1060.00</td>\n",
       "      <td>1100.00</td>\n",
       "      <td>1140.0</td>\n",
       "      <td>1490.00</td>\n",
       "      <td>1840.00</td>\n",
       "      <td>2360.0</td>\n",
       "      <td>2930.0</td>\n",
       "      <td>3300.0</td>\n",
       "      <td>3420.00</td>\n",
       "      <td>3560.00</td>\n",
       "      <td>3767.60</td>\n",
       "      <td>4080.00</td>\n",
       "      <td>6210.0</td>\n",
       "    </tr>\n",
       "    <tr>\n",
       "      <th>sqft_lot15</th>\n",
       "      <td>21613.0</td>\n",
       "      <td>12768.455652</td>\n",
       "      <td>27304.179631</td>\n",
       "      <td>651.0</td>\n",
       "      <td>1191.24</td>\n",
       "      <td>1296.24</td>\n",
       "      <td>1426.36</td>\n",
       "      <td>1670.96</td>\n",
       "      <td>1999.2</td>\n",
       "      <td>5100.00</td>\n",
       "      <td>7620.00</td>\n",
       "      <td>10083.0</td>\n",
       "      <td>17852.4</td>\n",
       "      <td>37062.8</td>\n",
       "      <td>42654.44</td>\n",
       "      <td>51400.00</td>\n",
       "      <td>80188.28</td>\n",
       "      <td>157687.00</td>\n",
       "      <td>871200.0</td>\n",
       "    </tr>\n",
       "    <tr>\n",
       "      <th>house_yr</th>\n",
       "      <td>21613.0</td>\n",
       "      <td>50.994864</td>\n",
       "      <td>29.373411</td>\n",
       "      <td>7.0</td>\n",
       "      <td>8.00</td>\n",
       "      <td>8.00</td>\n",
       "      <td>9.00</td>\n",
       "      <td>10.00</td>\n",
       "      <td>11.0</td>\n",
       "      <td>25.00</td>\n",
       "      <td>47.00</td>\n",
       "      <td>71.0</td>\n",
       "      <td>96.0</td>\n",
       "      <td>107.0</td>\n",
       "      <td>110.00</td>\n",
       "      <td>112.00</td>\n",
       "      <td>115.00</td>\n",
       "      <td>118.00</td>\n",
       "      <td>122.0</td>\n",
       "    </tr>\n",
       "  </tbody>\n",
       "</table>\n",
       "</div>"
      ],
      "text/plain": [
       "                 count           mean            std      min         1%  \\\n",
       "price          21613.0  540088.141767  367127.196483  75000.0  153500.36   \n",
       "bedrooms       21613.0       3.370842       0.930062      0.0       2.00   \n",
       "bathrooms      21613.0       2.114757       0.770163      0.0       1.00   \n",
       "sqft_living    21613.0    2079.899736     918.440897    290.0     720.00   \n",
       "sqft_lot       21613.0   15106.967566   41420.511515    520.0    1013.12   \n",
       "floors         21613.0       1.494309       0.539989      1.0       1.00   \n",
       "waterfront     21613.0       0.007542       0.086517      0.0       0.00   \n",
       "view           21613.0       0.234303       0.766318      0.0       0.00   \n",
       "condition      21613.0       3.409430       0.650743      1.0       3.00   \n",
       "grade          21613.0       7.656873       1.175459      1.0       5.00   \n",
       "sqft_above     21613.0    1788.390691     828.090978    290.0     700.00   \n",
       "sqft_basement  21613.0     291.509045     442.575043      0.0       0.00   \n",
       "yr_renovated   21613.0      84.402258     401.679240      0.0       0.00   \n",
       "sqft_living15  21613.0    1986.552492     685.391304    399.0     950.00   \n",
       "sqft_lot15     21613.0   12768.455652   27304.179631    651.0    1191.24   \n",
       "house_yr       21613.0      50.994864      29.373411      7.0       8.00   \n",
       "\n",
       "                      2%         3%         4%        5%        25%  \\\n",
       "price          175000.00  191342.00  202344.00  210000.0  321950.00   \n",
       "bedrooms            2.00       2.00       2.00       2.0       3.00   \n",
       "bathrooms           1.00       1.00       1.00       1.0       1.75   \n",
       "sqft_living       790.00     840.00     900.00     940.0    1427.00   \n",
       "sqft_lot         1184.00    1305.36    1489.48    1800.0    5040.00   \n",
       "floors              1.00       1.00       1.00       1.0       1.00   \n",
       "waterfront          0.00       0.00       0.00       0.0       0.00   \n",
       "view                0.00       0.00       0.00       0.0       0.00   \n",
       "condition           3.00       3.00       3.00       3.0       3.00   \n",
       "grade               6.00       6.00       6.00       6.0       7.00   \n",
       "sqft_above        750.00     790.00     820.00     850.0    1190.00   \n",
       "sqft_basement       0.00       0.00       0.00       0.0       0.00   \n",
       "yr_renovated        0.00       0.00       0.00       0.0       0.00   \n",
       "sqft_living15    1020.00    1060.00    1100.00    1140.0    1490.00   \n",
       "sqft_lot15       1296.24    1426.36    1670.96    1999.2    5100.00   \n",
       "house_yr            8.00       9.00      10.00      11.0      25.00   \n",
       "\n",
       "                     50%       75%       90%        95%         96%  \\\n",
       "price          450000.00  645000.0  887000.0  1156480.0  1259040.00   \n",
       "bedrooms            3.00       4.0       4.0        5.0        5.00   \n",
       "bathrooms           2.25       2.5       3.0        3.5        3.50   \n",
       "sqft_living      1910.00    2550.0    3250.0     3760.0     3920.00   \n",
       "sqft_lot         7618.00   10688.0   21397.6    43339.2    50658.16   \n",
       "floors              1.50       2.0       2.0        2.0        2.00   \n",
       "waterfront          0.00       0.0       0.0        0.0        0.00   \n",
       "view                0.00       0.0       0.0        2.0        2.00   \n",
       "condition           3.00       4.0       4.0        5.0        5.00   \n",
       "grade               7.00       8.0       9.0       10.0       10.00   \n",
       "sqft_above       1560.00    2210.0    2950.0     3400.0     3520.00   \n",
       "sqft_basement       0.00     560.0     970.0     1190.0     1250.00   \n",
       "yr_renovated        0.00       0.0       0.0        0.0     1965.00   \n",
       "sqft_living15    1840.00    2360.0    2930.0     3300.0     3420.00   \n",
       "sqft_lot15       7620.00   10083.0   17852.4    37062.8    42654.44   \n",
       "house_yr           47.00      71.0      96.0      107.0      110.00   \n",
       "\n",
       "                      97%         98%         99%        max  \n",
       "price          1388000.00  1600000.00  1964400.00  7700000.0  \n",
       "bedrooms             5.00        5.00        6.00       33.0  \n",
       "bathrooms            3.50        3.75        4.25        8.0  \n",
       "sqft_living       4140.00     4410.00     4978.80    13540.0  \n",
       "sqft_lot         67436.84   107157.00   213008.00  1651359.0  \n",
       "floors               2.50        3.00        3.00        3.5  \n",
       "waterfront           0.00        0.00        0.00        1.0  \n",
       "view                 3.00        3.00        4.00        4.0  \n",
       "condition            5.00        5.00        5.00        5.0  \n",
       "grade               10.00       11.00       11.00       13.0  \n",
       "sqft_above        3700.00     3970.00     4370.00     9410.0  \n",
       "sqft_basement     1340.00     1450.00     1660.00     4820.0  \n",
       "yr_renovated      1989.00     2000.00     2008.00     2015.0  \n",
       "sqft_living15     3560.00     3767.60     4080.00     6210.0  \n",
       "sqft_lot15       51400.00    80188.28   157687.00   871200.0  \n",
       "house_yr           112.00      115.00      118.00      122.0  "
      ]
     },
     "execution_count": 27,
     "metadata": {},
     "output_type": "execute_result"
    }
   ],
   "source": [
    "df.describe(percentiles=[.01,.02,.03,.04,.05,.25,.5,.75,.90,.95,.96,.97,.98,.99]).T"
   ]
  },
  {
   "cell_type": "code",
   "execution_count": 28,
   "id": "25509f03",
   "metadata": {},
   "outputs": [],
   "source": [
    "df_out=[ \"price\", \"sqft_living\", \"sqft_lot\", \"sqft_above\", \n",
    "\"sqft_basement\",  \"sqft_lot15\", \"sqft_living15\", \"bedrooms\", \"bathrooms\", \"grade\"]"
   ]
  },
  {
   "cell_type": "code",
   "execution_count": null,
   "id": "07a7d41b",
   "metadata": {},
   "outputs": [],
   "source": []
  },
  {
   "cell_type": "code",
   "execution_count": 29,
   "id": "60fcc459",
   "metadata": {},
   "outputs": [],
   "source": [
    "df_not_out=df.drop(columns=[\"bedrooms\", \"bathrooms\", \"price\", \"sqft_living\", \"sqft_lot\", \"grade\", \"sqft_above\", \n",
    "\"sqft_basement\",  \"sqft_lot15\", \"sqft_living15\"])"
   ]
  },
  {
   "cell_type": "code",
   "execution_count": 30,
   "id": "1058d56b",
   "metadata": {},
   "outputs": [],
   "source": [
    "df1_out=df[df_out]\n"
   ]
  },
  {
   "cell_type": "code",
   "execution_count": 31,
   "id": "7d0317be",
   "metadata": {},
   "outputs": [
    {
     "data": {
      "text/html": [
       "<div>\n",
       "<style scoped>\n",
       "    .dataframe tbody tr th:only-of-type {\n",
       "        vertical-align: middle;\n",
       "    }\n",
       "\n",
       "    .dataframe tbody tr th {\n",
       "        vertical-align: top;\n",
       "    }\n",
       "\n",
       "    .dataframe thead th {\n",
       "        text-align: right;\n",
       "    }\n",
       "</style>\n",
       "<table border=\"1\" class=\"dataframe\">\n",
       "  <thead>\n",
       "    <tr style=\"text-align: right;\">\n",
       "      <th></th>\n",
       "      <th>price</th>\n",
       "      <th>sqft_living</th>\n",
       "      <th>sqft_lot</th>\n",
       "      <th>sqft_above</th>\n",
       "      <th>sqft_basement</th>\n",
       "      <th>sqft_lot15</th>\n",
       "      <th>sqft_living15</th>\n",
       "      <th>bedrooms</th>\n",
       "      <th>bathrooms</th>\n",
       "      <th>grade</th>\n",
       "    </tr>\n",
       "  </thead>\n",
       "  <tbody>\n",
       "    <tr>\n",
       "      <th>0</th>\n",
       "      <td>221900.0</td>\n",
       "      <td>1180</td>\n",
       "      <td>5650</td>\n",
       "      <td>1180</td>\n",
       "      <td>0</td>\n",
       "      <td>5650</td>\n",
       "      <td>1340</td>\n",
       "      <td>3</td>\n",
       "      <td>1.00</td>\n",
       "      <td>7</td>\n",
       "    </tr>\n",
       "    <tr>\n",
       "      <th>1</th>\n",
       "      <td>538000.0</td>\n",
       "      <td>2570</td>\n",
       "      <td>7242</td>\n",
       "      <td>2170</td>\n",
       "      <td>400</td>\n",
       "      <td>7639</td>\n",
       "      <td>1690</td>\n",
       "      <td>3</td>\n",
       "      <td>2.25</td>\n",
       "      <td>7</td>\n",
       "    </tr>\n",
       "    <tr>\n",
       "      <th>2</th>\n",
       "      <td>180000.0</td>\n",
       "      <td>770</td>\n",
       "      <td>10000</td>\n",
       "      <td>770</td>\n",
       "      <td>0</td>\n",
       "      <td>8062</td>\n",
       "      <td>2720</td>\n",
       "      <td>2</td>\n",
       "      <td>1.00</td>\n",
       "      <td>6</td>\n",
       "    </tr>\n",
       "    <tr>\n",
       "      <th>3</th>\n",
       "      <td>604000.0</td>\n",
       "      <td>1960</td>\n",
       "      <td>5000</td>\n",
       "      <td>1050</td>\n",
       "      <td>910</td>\n",
       "      <td>5000</td>\n",
       "      <td>1360</td>\n",
       "      <td>4</td>\n",
       "      <td>3.00</td>\n",
       "      <td>7</td>\n",
       "    </tr>\n",
       "    <tr>\n",
       "      <th>4</th>\n",
       "      <td>510000.0</td>\n",
       "      <td>1680</td>\n",
       "      <td>8080</td>\n",
       "      <td>1680</td>\n",
       "      <td>0</td>\n",
       "      <td>7503</td>\n",
       "      <td>1800</td>\n",
       "      <td>3</td>\n",
       "      <td>2.00</td>\n",
       "      <td>8</td>\n",
       "    </tr>\n",
       "    <tr>\n",
       "      <th>...</th>\n",
       "      <td>...</td>\n",
       "      <td>...</td>\n",
       "      <td>...</td>\n",
       "      <td>...</td>\n",
       "      <td>...</td>\n",
       "      <td>...</td>\n",
       "      <td>...</td>\n",
       "      <td>...</td>\n",
       "      <td>...</td>\n",
       "      <td>...</td>\n",
       "    </tr>\n",
       "    <tr>\n",
       "      <th>21608</th>\n",
       "      <td>360000.0</td>\n",
       "      <td>1530</td>\n",
       "      <td>1131</td>\n",
       "      <td>1530</td>\n",
       "      <td>0</td>\n",
       "      <td>1509</td>\n",
       "      <td>1530</td>\n",
       "      <td>3</td>\n",
       "      <td>2.50</td>\n",
       "      <td>8</td>\n",
       "    </tr>\n",
       "    <tr>\n",
       "      <th>21609</th>\n",
       "      <td>400000.0</td>\n",
       "      <td>2310</td>\n",
       "      <td>5813</td>\n",
       "      <td>2310</td>\n",
       "      <td>0</td>\n",
       "      <td>7200</td>\n",
       "      <td>1830</td>\n",
       "      <td>4</td>\n",
       "      <td>2.50</td>\n",
       "      <td>8</td>\n",
       "    </tr>\n",
       "    <tr>\n",
       "      <th>21610</th>\n",
       "      <td>402101.0</td>\n",
       "      <td>1020</td>\n",
       "      <td>1350</td>\n",
       "      <td>1020</td>\n",
       "      <td>0</td>\n",
       "      <td>2007</td>\n",
       "      <td>1020</td>\n",
       "      <td>2</td>\n",
       "      <td>0.75</td>\n",
       "      <td>7</td>\n",
       "    </tr>\n",
       "    <tr>\n",
       "      <th>21611</th>\n",
       "      <td>400000.0</td>\n",
       "      <td>1600</td>\n",
       "      <td>2388</td>\n",
       "      <td>1600</td>\n",
       "      <td>0</td>\n",
       "      <td>1287</td>\n",
       "      <td>1410</td>\n",
       "      <td>3</td>\n",
       "      <td>2.50</td>\n",
       "      <td>8</td>\n",
       "    </tr>\n",
       "    <tr>\n",
       "      <th>21612</th>\n",
       "      <td>325000.0</td>\n",
       "      <td>1020</td>\n",
       "      <td>1076</td>\n",
       "      <td>1020</td>\n",
       "      <td>0</td>\n",
       "      <td>1357</td>\n",
       "      <td>1020</td>\n",
       "      <td>2</td>\n",
       "      <td>0.75</td>\n",
       "      <td>7</td>\n",
       "    </tr>\n",
       "  </tbody>\n",
       "</table>\n",
       "<p>21613 rows × 10 columns</p>\n",
       "</div>"
      ],
      "text/plain": [
       "          price  sqft_living  sqft_lot  sqft_above  sqft_basement  sqft_lot15  \\\n",
       "0      221900.0         1180      5650        1180              0        5650   \n",
       "1      538000.0         2570      7242        2170            400        7639   \n",
       "2      180000.0          770     10000         770              0        8062   \n",
       "3      604000.0         1960      5000        1050            910        5000   \n",
       "4      510000.0         1680      8080        1680              0        7503   \n",
       "...         ...          ...       ...         ...            ...         ...   \n",
       "21608  360000.0         1530      1131        1530              0        1509   \n",
       "21609  400000.0         2310      5813        2310              0        7200   \n",
       "21610  402101.0         1020      1350        1020              0        2007   \n",
       "21611  400000.0         1600      2388        1600              0        1287   \n",
       "21612  325000.0         1020      1076        1020              0        1357   \n",
       "\n",
       "       sqft_living15  bedrooms  bathrooms  grade  \n",
       "0               1340         3       1.00      7  \n",
       "1               1690         3       2.25      7  \n",
       "2               2720         2       1.00      6  \n",
       "3               1360         4       3.00      7  \n",
       "4               1800         3       2.00      8  \n",
       "...              ...       ...        ...    ...  \n",
       "21608           1530         3       2.50      8  \n",
       "21609           1830         4       2.50      8  \n",
       "21610           1020         2       0.75      7  \n",
       "21611           1410         3       2.50      8  \n",
       "21612           1020         2       0.75      7  \n",
       "\n",
       "[21613 rows x 10 columns]"
      ]
     },
     "execution_count": 31,
     "metadata": {},
     "output_type": "execute_result"
    }
   ],
   "source": [
    "df1_out"
   ]
  },
  {
   "cell_type": "code",
   "execution_count": null,
   "id": "77a7eec8",
   "metadata": {},
   "outputs": [],
   "source": []
  },
  {
   "cell_type": "markdown",
   "id": "2494a9c9",
   "metadata": {},
   "source": [
    "#### For outliers treatment we use capping maethod\n",
    "----------------------------------------------------------------------_"
   ]
  },
  {
   "cell_type": "code",
   "execution_count": 32,
   "id": "65b7d6ce",
   "metadata": {},
   "outputs": [],
   "source": [
    "### Outlier Capping Function - Method -1\n",
    "def outliers_percentile(x):\n",
    "    x=x.clip(upper=x.quantile(.99))\n",
    "    x=x.clip(lower=x.quantile(.01))\n",
    "    return x"
   ]
  },
  {
   "cell_type": "code",
   "execution_count": 33,
   "id": "e51a21e6",
   "metadata": {},
   "outputs": [],
   "source": [
    "df1=df1_out.apply(outliers_percentile)"
   ]
  },
  {
   "cell_type": "code",
   "execution_count": 34,
   "id": "808e5ba7",
   "metadata": {},
   "outputs": [
    {
     "data": {
      "text/html": [
       "<div>\n",
       "<style scoped>\n",
       "    .dataframe tbody tr th:only-of-type {\n",
       "        vertical-align: middle;\n",
       "    }\n",
       "\n",
       "    .dataframe tbody tr th {\n",
       "        vertical-align: top;\n",
       "    }\n",
       "\n",
       "    .dataframe thead th {\n",
       "        text-align: right;\n",
       "    }\n",
       "</style>\n",
       "<table border=\"1\" class=\"dataframe\">\n",
       "  <thead>\n",
       "    <tr style=\"text-align: right;\">\n",
       "      <th></th>\n",
       "      <th>count</th>\n",
       "      <th>mean</th>\n",
       "      <th>std</th>\n",
       "      <th>min</th>\n",
       "      <th>1%</th>\n",
       "      <th>2%</th>\n",
       "      <th>3%</th>\n",
       "      <th>4%</th>\n",
       "      <th>5%</th>\n",
       "      <th>25%</th>\n",
       "      <th>50%</th>\n",
       "      <th>75%</th>\n",
       "      <th>90%</th>\n",
       "      <th>95%</th>\n",
       "      <th>96%</th>\n",
       "      <th>97%</th>\n",
       "      <th>98%</th>\n",
       "      <th>99%</th>\n",
       "      <th>max</th>\n",
       "    </tr>\n",
       "  </thead>\n",
       "  <tbody>\n",
       "    <tr>\n",
       "      <th>price</th>\n",
       "      <td>21613.0</td>\n",
       "      <td>532888.126735</td>\n",
       "      <td>317438.089268</td>\n",
       "      <td>153500.36</td>\n",
       "      <td>153500.6768</td>\n",
       "      <td>175000.00</td>\n",
       "      <td>191342.00</td>\n",
       "      <td>202344.00</td>\n",
       "      <td>210000.0</td>\n",
       "      <td>321950.00</td>\n",
       "      <td>450000.00</td>\n",
       "      <td>645000.0</td>\n",
       "      <td>887000.0</td>\n",
       "      <td>1156480.0</td>\n",
       "      <td>1259040.00</td>\n",
       "      <td>1388000.00</td>\n",
       "      <td>1600000.00</td>\n",
       "      <td>1963872.000</td>\n",
       "      <td>1964400.00</td>\n",
       "    </tr>\n",
       "    <tr>\n",
       "      <th>sqft_living</th>\n",
       "      <td>21613.0</td>\n",
       "      <td>2070.894721</td>\n",
       "      <td>872.755768</td>\n",
       "      <td>720.00</td>\n",
       "      <td>720.0000</td>\n",
       "      <td>790.00</td>\n",
       "      <td>840.00</td>\n",
       "      <td>900.00</td>\n",
       "      <td>940.0</td>\n",
       "      <td>1427.00</td>\n",
       "      <td>1910.00</td>\n",
       "      <td>2550.0</td>\n",
       "      <td>3250.0</td>\n",
       "      <td>3760.0</td>\n",
       "      <td>3920.00</td>\n",
       "      <td>4140.00</td>\n",
       "      <td>4410.00</td>\n",
       "      <td>4977.744</td>\n",
       "      <td>4978.80</td>\n",
       "    </tr>\n",
       "    <tr>\n",
       "      <th>sqft_lot</th>\n",
       "      <td>21613.0</td>\n",
       "      <td>13985.009996</td>\n",
       "      <td>27703.147345</td>\n",
       "      <td>1013.12</td>\n",
       "      <td>1013.2256</td>\n",
       "      <td>1184.00</td>\n",
       "      <td>1305.36</td>\n",
       "      <td>1489.48</td>\n",
       "      <td>1800.0</td>\n",
       "      <td>5040.00</td>\n",
       "      <td>7618.00</td>\n",
       "      <td>10688.0</td>\n",
       "      <td>21397.6</td>\n",
       "      <td>43339.2</td>\n",
       "      <td>50658.16</td>\n",
       "      <td>67436.84</td>\n",
       "      <td>107157.00</td>\n",
       "      <td>213008.000</td>\n",
       "      <td>213008.00</td>\n",
       "    </tr>\n",
       "    <tr>\n",
       "      <th>sqft_above</th>\n",
       "      <td>21613.0</td>\n",
       "      <td>1781.797529</td>\n",
       "      <td>795.135471</td>\n",
       "      <td>700.00</td>\n",
       "      <td>700.0000</td>\n",
       "      <td>750.00</td>\n",
       "      <td>790.00</td>\n",
       "      <td>820.00</td>\n",
       "      <td>850.0</td>\n",
       "      <td>1190.00</td>\n",
       "      <td>1560.00</td>\n",
       "      <td>2210.0</td>\n",
       "      <td>2950.0</td>\n",
       "      <td>3400.0</td>\n",
       "      <td>3520.00</td>\n",
       "      <td>3700.00</td>\n",
       "      <td>3970.00</td>\n",
       "      <td>4370.000</td>\n",
       "      <td>4370.00</td>\n",
       "    </tr>\n",
       "    <tr>\n",
       "      <th>sqft_basement</th>\n",
       "      <td>21613.0</td>\n",
       "      <td>288.171008</td>\n",
       "      <td>429.005284</td>\n",
       "      <td>0.00</td>\n",
       "      <td>0.0000</td>\n",
       "      <td>0.00</td>\n",
       "      <td>0.00</td>\n",
       "      <td>0.00</td>\n",
       "      <td>0.0</td>\n",
       "      <td>0.00</td>\n",
       "      <td>0.00</td>\n",
       "      <td>560.0</td>\n",
       "      <td>970.0</td>\n",
       "      <td>1190.0</td>\n",
       "      <td>1250.00</td>\n",
       "      <td>1340.00</td>\n",
       "      <td>1450.00</td>\n",
       "      <td>1660.000</td>\n",
       "      <td>1660.00</td>\n",
       "    </tr>\n",
       "    <tr>\n",
       "      <th>sqft_lot15</th>\n",
       "      <td>21613.0</td>\n",
       "      <td>12004.317822</td>\n",
       "      <td>19872.532922</td>\n",
       "      <td>1191.24</td>\n",
       "      <td>1191.4512</td>\n",
       "      <td>1296.24</td>\n",
       "      <td>1426.36</td>\n",
       "      <td>1670.96</td>\n",
       "      <td>1999.2</td>\n",
       "      <td>5100.00</td>\n",
       "      <td>7620.00</td>\n",
       "      <td>10083.0</td>\n",
       "      <td>17852.4</td>\n",
       "      <td>37062.8</td>\n",
       "      <td>42654.44</td>\n",
       "      <td>51400.00</td>\n",
       "      <td>80188.28</td>\n",
       "      <td>157687.000</td>\n",
       "      <td>157687.00</td>\n",
       "    </tr>\n",
       "    <tr>\n",
       "      <th>sqft_living15</th>\n",
       "      <td>21613.0</td>\n",
       "      <td>1982.897238</td>\n",
       "      <td>666.839300</td>\n",
       "      <td>950.00</td>\n",
       "      <td>950.0000</td>\n",
       "      <td>1020.00</td>\n",
       "      <td>1060.00</td>\n",
       "      <td>1100.00</td>\n",
       "      <td>1140.0</td>\n",
       "      <td>1490.00</td>\n",
       "      <td>1840.00</td>\n",
       "      <td>2360.0</td>\n",
       "      <td>2930.0</td>\n",
       "      <td>3300.0</td>\n",
       "      <td>3420.00</td>\n",
       "      <td>3560.00</td>\n",
       "      <td>3767.60</td>\n",
       "      <td>4080.000</td>\n",
       "      <td>4080.00</td>\n",
       "    </tr>\n",
       "    <tr>\n",
       "      <th>bedrooms</th>\n",
       "      <td>21613.0</td>\n",
       "      <td>3.375422</td>\n",
       "      <td>0.866261</td>\n",
       "      <td>2.00</td>\n",
       "      <td>2.0000</td>\n",
       "      <td>2.00</td>\n",
       "      <td>2.00</td>\n",
       "      <td>2.00</td>\n",
       "      <td>2.0</td>\n",
       "      <td>3.00</td>\n",
       "      <td>3.00</td>\n",
       "      <td>4.0</td>\n",
       "      <td>4.0</td>\n",
       "      <td>5.0</td>\n",
       "      <td>5.00</td>\n",
       "      <td>5.00</td>\n",
       "      <td>5.00</td>\n",
       "      <td>6.000</td>\n",
       "      <td>6.00</td>\n",
       "    </tr>\n",
       "    <tr>\n",
       "      <th>bathrooms</th>\n",
       "      <td>21613.0</td>\n",
       "      <td>2.110501</td>\n",
       "      <td>0.746825</td>\n",
       "      <td>1.00</td>\n",
       "      <td>1.0000</td>\n",
       "      <td>1.00</td>\n",
       "      <td>1.00</td>\n",
       "      <td>1.00</td>\n",
       "      <td>1.0</td>\n",
       "      <td>1.75</td>\n",
       "      <td>2.25</td>\n",
       "      <td>2.5</td>\n",
       "      <td>3.0</td>\n",
       "      <td>3.5</td>\n",
       "      <td>3.50</td>\n",
       "      <td>3.50</td>\n",
       "      <td>3.75</td>\n",
       "      <td>4.250</td>\n",
       "      <td>4.25</td>\n",
       "    </tr>\n",
       "    <tr>\n",
       "      <th>grade</th>\n",
       "      <td>21613.0</td>\n",
       "      <td>7.653311</td>\n",
       "      <td>1.151958</td>\n",
       "      <td>5.00</td>\n",
       "      <td>5.0000</td>\n",
       "      <td>6.00</td>\n",
       "      <td>6.00</td>\n",
       "      <td>6.00</td>\n",
       "      <td>6.0</td>\n",
       "      <td>7.00</td>\n",
       "      <td>7.00</td>\n",
       "      <td>8.0</td>\n",
       "      <td>9.0</td>\n",
       "      <td>10.0</td>\n",
       "      <td>10.00</td>\n",
       "      <td>10.00</td>\n",
       "      <td>11.00</td>\n",
       "      <td>11.000</td>\n",
       "      <td>11.00</td>\n",
       "    </tr>\n",
       "  </tbody>\n",
       "</table>\n",
       "</div>"
      ],
      "text/plain": [
       "                 count           mean            std        min           1%  \\\n",
       "price          21613.0  532888.126735  317438.089268  153500.36  153500.6768   \n",
       "sqft_living    21613.0    2070.894721     872.755768     720.00     720.0000   \n",
       "sqft_lot       21613.0   13985.009996   27703.147345    1013.12    1013.2256   \n",
       "sqft_above     21613.0    1781.797529     795.135471     700.00     700.0000   \n",
       "sqft_basement  21613.0     288.171008     429.005284       0.00       0.0000   \n",
       "sqft_lot15     21613.0   12004.317822   19872.532922    1191.24    1191.4512   \n",
       "sqft_living15  21613.0    1982.897238     666.839300     950.00     950.0000   \n",
       "bedrooms       21613.0       3.375422       0.866261       2.00       2.0000   \n",
       "bathrooms      21613.0       2.110501       0.746825       1.00       1.0000   \n",
       "grade          21613.0       7.653311       1.151958       5.00       5.0000   \n",
       "\n",
       "                      2%         3%         4%        5%        25%  \\\n",
       "price          175000.00  191342.00  202344.00  210000.0  321950.00   \n",
       "sqft_living       790.00     840.00     900.00     940.0    1427.00   \n",
       "sqft_lot         1184.00    1305.36    1489.48    1800.0    5040.00   \n",
       "sqft_above        750.00     790.00     820.00     850.0    1190.00   \n",
       "sqft_basement       0.00       0.00       0.00       0.0       0.00   \n",
       "sqft_lot15       1296.24    1426.36    1670.96    1999.2    5100.00   \n",
       "sqft_living15    1020.00    1060.00    1100.00    1140.0    1490.00   \n",
       "bedrooms            2.00       2.00       2.00       2.0       3.00   \n",
       "bathrooms           1.00       1.00       1.00       1.0       1.75   \n",
       "grade               6.00       6.00       6.00       6.0       7.00   \n",
       "\n",
       "                     50%       75%       90%        95%         96%  \\\n",
       "price          450000.00  645000.0  887000.0  1156480.0  1259040.00   \n",
       "sqft_living      1910.00    2550.0    3250.0     3760.0     3920.00   \n",
       "sqft_lot         7618.00   10688.0   21397.6    43339.2    50658.16   \n",
       "sqft_above       1560.00    2210.0    2950.0     3400.0     3520.00   \n",
       "sqft_basement       0.00     560.0     970.0     1190.0     1250.00   \n",
       "sqft_lot15       7620.00   10083.0   17852.4    37062.8    42654.44   \n",
       "sqft_living15    1840.00    2360.0    2930.0     3300.0     3420.00   \n",
       "bedrooms            3.00       4.0       4.0        5.0        5.00   \n",
       "bathrooms           2.25       2.5       3.0        3.5        3.50   \n",
       "grade               7.00       8.0       9.0       10.0       10.00   \n",
       "\n",
       "                      97%         98%          99%         max  \n",
       "price          1388000.00  1600000.00  1963872.000  1964400.00  \n",
       "sqft_living       4140.00     4410.00     4977.744     4978.80  \n",
       "sqft_lot         67436.84   107157.00   213008.000   213008.00  \n",
       "sqft_above        3700.00     3970.00     4370.000     4370.00  \n",
       "sqft_basement     1340.00     1450.00     1660.000     1660.00  \n",
       "sqft_lot15       51400.00    80188.28   157687.000   157687.00  \n",
       "sqft_living15     3560.00     3767.60     4080.000     4080.00  \n",
       "bedrooms             5.00        5.00        6.000        6.00  \n",
       "bathrooms            3.50        3.75        4.250        4.25  \n",
       "grade               10.00       11.00       11.000       11.00  "
      ]
     },
     "execution_count": 34,
     "metadata": {},
     "output_type": "execute_result"
    }
   ],
   "source": [
    "df1.describe(percentiles=[.01,.02,.03,.04,.05,.25,.5,.75,.90,.95,.96,.97,.98,.99]).T"
   ]
  },
  {
   "cell_type": "code",
   "execution_count": 35,
   "id": "6cc87857",
   "metadata": {},
   "outputs": [],
   "source": [
    "df2=pd.concat([df1, df_not_out], axis=1)"
   ]
  },
  {
   "cell_type": "markdown",
   "id": "620ad92c",
   "metadata": {},
   "source": [
    "* we merge outliers treatment columns and non outliers "
   ]
  },
  {
   "cell_type": "code",
   "execution_count": 36,
   "id": "e837dacc",
   "metadata": {},
   "outputs": [
    {
     "data": {
      "text/html": [
       "<div>\n",
       "<style scoped>\n",
       "    .dataframe tbody tr th:only-of-type {\n",
       "        vertical-align: middle;\n",
       "    }\n",
       "\n",
       "    .dataframe tbody tr th {\n",
       "        vertical-align: top;\n",
       "    }\n",
       "\n",
       "    .dataframe thead th {\n",
       "        text-align: right;\n",
       "    }\n",
       "</style>\n",
       "<table border=\"1\" class=\"dataframe\">\n",
       "  <thead>\n",
       "    <tr style=\"text-align: right;\">\n",
       "      <th></th>\n",
       "      <th>price</th>\n",
       "      <th>sqft_living</th>\n",
       "      <th>sqft_lot</th>\n",
       "      <th>sqft_above</th>\n",
       "      <th>sqft_basement</th>\n",
       "      <th>sqft_lot15</th>\n",
       "      <th>sqft_living15</th>\n",
       "      <th>bedrooms</th>\n",
       "      <th>bathrooms</th>\n",
       "      <th>grade</th>\n",
       "      <th>floors</th>\n",
       "      <th>waterfront</th>\n",
       "      <th>view</th>\n",
       "      <th>condition</th>\n",
       "      <th>yr_renovated</th>\n",
       "      <th>house_yr</th>\n",
       "    </tr>\n",
       "  </thead>\n",
       "  <tbody>\n",
       "    <tr>\n",
       "      <th>0</th>\n",
       "      <td>221900.0</td>\n",
       "      <td>1180.0</td>\n",
       "      <td>5650.0</td>\n",
       "      <td>1180.0</td>\n",
       "      <td>0.0</td>\n",
       "      <td>5650.0</td>\n",
       "      <td>1340.0</td>\n",
       "      <td>3.0</td>\n",
       "      <td>1.00</td>\n",
       "      <td>7.0</td>\n",
       "      <td>1.0</td>\n",
       "      <td>0</td>\n",
       "      <td>0</td>\n",
       "      <td>3</td>\n",
       "      <td>0</td>\n",
       "      <td>67</td>\n",
       "    </tr>\n",
       "    <tr>\n",
       "      <th>1</th>\n",
       "      <td>538000.0</td>\n",
       "      <td>2570.0</td>\n",
       "      <td>7242.0</td>\n",
       "      <td>2170.0</td>\n",
       "      <td>400.0</td>\n",
       "      <td>7639.0</td>\n",
       "      <td>1690.0</td>\n",
       "      <td>3.0</td>\n",
       "      <td>2.25</td>\n",
       "      <td>7.0</td>\n",
       "      <td>2.0</td>\n",
       "      <td>0</td>\n",
       "      <td>0</td>\n",
       "      <td>3</td>\n",
       "      <td>1991</td>\n",
       "      <td>71</td>\n",
       "    </tr>\n",
       "    <tr>\n",
       "      <th>2</th>\n",
       "      <td>180000.0</td>\n",
       "      <td>770.0</td>\n",
       "      <td>10000.0</td>\n",
       "      <td>770.0</td>\n",
       "      <td>0.0</td>\n",
       "      <td>8062.0</td>\n",
       "      <td>2720.0</td>\n",
       "      <td>2.0</td>\n",
       "      <td>1.00</td>\n",
       "      <td>6.0</td>\n",
       "      <td>1.0</td>\n",
       "      <td>0</td>\n",
       "      <td>0</td>\n",
       "      <td>3</td>\n",
       "      <td>0</td>\n",
       "      <td>89</td>\n",
       "    </tr>\n",
       "    <tr>\n",
       "      <th>3</th>\n",
       "      <td>604000.0</td>\n",
       "      <td>1960.0</td>\n",
       "      <td>5000.0</td>\n",
       "      <td>1050.0</td>\n",
       "      <td>910.0</td>\n",
       "      <td>5000.0</td>\n",
       "      <td>1360.0</td>\n",
       "      <td>4.0</td>\n",
       "      <td>3.00</td>\n",
       "      <td>7.0</td>\n",
       "      <td>1.0</td>\n",
       "      <td>0</td>\n",
       "      <td>0</td>\n",
       "      <td>5</td>\n",
       "      <td>0</td>\n",
       "      <td>57</td>\n",
       "    </tr>\n",
       "    <tr>\n",
       "      <th>4</th>\n",
       "      <td>510000.0</td>\n",
       "      <td>1680.0</td>\n",
       "      <td>8080.0</td>\n",
       "      <td>1680.0</td>\n",
       "      <td>0.0</td>\n",
       "      <td>7503.0</td>\n",
       "      <td>1800.0</td>\n",
       "      <td>3.0</td>\n",
       "      <td>2.00</td>\n",
       "      <td>8.0</td>\n",
       "      <td>1.0</td>\n",
       "      <td>0</td>\n",
       "      <td>0</td>\n",
       "      <td>3</td>\n",
       "      <td>0</td>\n",
       "      <td>35</td>\n",
       "    </tr>\n",
       "    <tr>\n",
       "      <th>...</th>\n",
       "      <td>...</td>\n",
       "      <td>...</td>\n",
       "      <td>...</td>\n",
       "      <td>...</td>\n",
       "      <td>...</td>\n",
       "      <td>...</td>\n",
       "      <td>...</td>\n",
       "      <td>...</td>\n",
       "      <td>...</td>\n",
       "      <td>...</td>\n",
       "      <td>...</td>\n",
       "      <td>...</td>\n",
       "      <td>...</td>\n",
       "      <td>...</td>\n",
       "      <td>...</td>\n",
       "      <td>...</td>\n",
       "    </tr>\n",
       "    <tr>\n",
       "      <th>21608</th>\n",
       "      <td>360000.0</td>\n",
       "      <td>1530.0</td>\n",
       "      <td>1131.0</td>\n",
       "      <td>1530.0</td>\n",
       "      <td>0.0</td>\n",
       "      <td>1509.0</td>\n",
       "      <td>1530.0</td>\n",
       "      <td>3.0</td>\n",
       "      <td>2.50</td>\n",
       "      <td>8.0</td>\n",
       "      <td>3.0</td>\n",
       "      <td>0</td>\n",
       "      <td>0</td>\n",
       "      <td>3</td>\n",
       "      <td>0</td>\n",
       "      <td>13</td>\n",
       "    </tr>\n",
       "    <tr>\n",
       "      <th>21609</th>\n",
       "      <td>400000.0</td>\n",
       "      <td>2310.0</td>\n",
       "      <td>5813.0</td>\n",
       "      <td>2310.0</td>\n",
       "      <td>0.0</td>\n",
       "      <td>7200.0</td>\n",
       "      <td>1830.0</td>\n",
       "      <td>4.0</td>\n",
       "      <td>2.50</td>\n",
       "      <td>8.0</td>\n",
       "      <td>2.0</td>\n",
       "      <td>0</td>\n",
       "      <td>0</td>\n",
       "      <td>3</td>\n",
       "      <td>0</td>\n",
       "      <td>8</td>\n",
       "    </tr>\n",
       "    <tr>\n",
       "      <th>21610</th>\n",
       "      <td>402101.0</td>\n",
       "      <td>1020.0</td>\n",
       "      <td>1350.0</td>\n",
       "      <td>1020.0</td>\n",
       "      <td>0.0</td>\n",
       "      <td>2007.0</td>\n",
       "      <td>1020.0</td>\n",
       "      <td>2.0</td>\n",
       "      <td>1.00</td>\n",
       "      <td>7.0</td>\n",
       "      <td>2.0</td>\n",
       "      <td>0</td>\n",
       "      <td>0</td>\n",
       "      <td>3</td>\n",
       "      <td>0</td>\n",
       "      <td>13</td>\n",
       "    </tr>\n",
       "    <tr>\n",
       "      <th>21611</th>\n",
       "      <td>400000.0</td>\n",
       "      <td>1600.0</td>\n",
       "      <td>2388.0</td>\n",
       "      <td>1600.0</td>\n",
       "      <td>0.0</td>\n",
       "      <td>1287.0</td>\n",
       "      <td>1410.0</td>\n",
       "      <td>3.0</td>\n",
       "      <td>2.50</td>\n",
       "      <td>8.0</td>\n",
       "      <td>2.0</td>\n",
       "      <td>0</td>\n",
       "      <td>0</td>\n",
       "      <td>3</td>\n",
       "      <td>0</td>\n",
       "      <td>18</td>\n",
       "    </tr>\n",
       "    <tr>\n",
       "      <th>21612</th>\n",
       "      <td>325000.0</td>\n",
       "      <td>1020.0</td>\n",
       "      <td>1076.0</td>\n",
       "      <td>1020.0</td>\n",
       "      <td>0.0</td>\n",
       "      <td>1357.0</td>\n",
       "      <td>1020.0</td>\n",
       "      <td>2.0</td>\n",
       "      <td>1.00</td>\n",
       "      <td>7.0</td>\n",
       "      <td>2.0</td>\n",
       "      <td>0</td>\n",
       "      <td>0</td>\n",
       "      <td>3</td>\n",
       "      <td>0</td>\n",
       "      <td>14</td>\n",
       "    </tr>\n",
       "  </tbody>\n",
       "</table>\n",
       "<p>21613 rows × 16 columns</p>\n",
       "</div>"
      ],
      "text/plain": [
       "          price  sqft_living  sqft_lot  sqft_above  sqft_basement  sqft_lot15  \\\n",
       "0      221900.0       1180.0    5650.0      1180.0            0.0      5650.0   \n",
       "1      538000.0       2570.0    7242.0      2170.0          400.0      7639.0   \n",
       "2      180000.0        770.0   10000.0       770.0            0.0      8062.0   \n",
       "3      604000.0       1960.0    5000.0      1050.0          910.0      5000.0   \n",
       "4      510000.0       1680.0    8080.0      1680.0            0.0      7503.0   \n",
       "...         ...          ...       ...         ...            ...         ...   \n",
       "21608  360000.0       1530.0    1131.0      1530.0            0.0      1509.0   \n",
       "21609  400000.0       2310.0    5813.0      2310.0            0.0      7200.0   \n",
       "21610  402101.0       1020.0    1350.0      1020.0            0.0      2007.0   \n",
       "21611  400000.0       1600.0    2388.0      1600.0            0.0      1287.0   \n",
       "21612  325000.0       1020.0    1076.0      1020.0            0.0      1357.0   \n",
       "\n",
       "       sqft_living15  bedrooms  bathrooms  grade  floors  waterfront  view  \\\n",
       "0             1340.0       3.0       1.00    7.0     1.0           0     0   \n",
       "1             1690.0       3.0       2.25    7.0     2.0           0     0   \n",
       "2             2720.0       2.0       1.00    6.0     1.0           0     0   \n",
       "3             1360.0       4.0       3.00    7.0     1.0           0     0   \n",
       "4             1800.0       3.0       2.00    8.0     1.0           0     0   \n",
       "...              ...       ...        ...    ...     ...         ...   ...   \n",
       "21608         1530.0       3.0       2.50    8.0     3.0           0     0   \n",
       "21609         1830.0       4.0       2.50    8.0     2.0           0     0   \n",
       "21610         1020.0       2.0       1.00    7.0     2.0           0     0   \n",
       "21611         1410.0       3.0       2.50    8.0     2.0           0     0   \n",
       "21612         1020.0       2.0       1.00    7.0     2.0           0     0   \n",
       "\n",
       "       condition  yr_renovated  house_yr  \n",
       "0              3             0        67  \n",
       "1              3          1991        71  \n",
       "2              3             0        89  \n",
       "3              5             0        57  \n",
       "4              3             0        35  \n",
       "...          ...           ...       ...  \n",
       "21608          3             0        13  \n",
       "21609          3             0         8  \n",
       "21610          3             0        13  \n",
       "21611          3             0        18  \n",
       "21612          3             0        14  \n",
       "\n",
       "[21613 rows x 16 columns]"
      ]
     },
     "execution_count": 36,
     "metadata": {},
     "output_type": "execute_result"
    }
   ],
   "source": [
    "df2"
   ]
  },
  {
   "cell_type": "code",
   "execution_count": 37,
   "id": "628e8c0b",
   "metadata": {},
   "outputs": [
    {
     "data": {
      "text/html": [
       "<div>\n",
       "<style scoped>\n",
       "    .dataframe tbody tr th:only-of-type {\n",
       "        vertical-align: middle;\n",
       "    }\n",
       "\n",
       "    .dataframe tbody tr th {\n",
       "        vertical-align: top;\n",
       "    }\n",
       "\n",
       "    .dataframe thead th {\n",
       "        text-align: right;\n",
       "    }\n",
       "</style>\n",
       "<table border=\"1\" class=\"dataframe\">\n",
       "  <thead>\n",
       "    <tr style=\"text-align: right;\">\n",
       "      <th></th>\n",
       "      <th>count</th>\n",
       "      <th>mean</th>\n",
       "      <th>std</th>\n",
       "      <th>min</th>\n",
       "      <th>1%</th>\n",
       "      <th>2%</th>\n",
       "      <th>3%</th>\n",
       "      <th>4%</th>\n",
       "      <th>5%</th>\n",
       "      <th>25%</th>\n",
       "      <th>50%</th>\n",
       "      <th>75%</th>\n",
       "      <th>90%</th>\n",
       "      <th>95%</th>\n",
       "      <th>96%</th>\n",
       "      <th>97%</th>\n",
       "      <th>98%</th>\n",
       "      <th>99%</th>\n",
       "      <th>max</th>\n",
       "    </tr>\n",
       "  </thead>\n",
       "  <tbody>\n",
       "    <tr>\n",
       "      <th>price</th>\n",
       "      <td>21613.0</td>\n",
       "      <td>532888.126735</td>\n",
       "      <td>317438.089268</td>\n",
       "      <td>153500.36</td>\n",
       "      <td>153500.6768</td>\n",
       "      <td>175000.00</td>\n",
       "      <td>191342.00</td>\n",
       "      <td>202344.00</td>\n",
       "      <td>210000.0</td>\n",
       "      <td>321950.00</td>\n",
       "      <td>450000.00</td>\n",
       "      <td>645000.0</td>\n",
       "      <td>887000.0</td>\n",
       "      <td>1156480.0</td>\n",
       "      <td>1259040.00</td>\n",
       "      <td>1388000.00</td>\n",
       "      <td>1600000.00</td>\n",
       "      <td>1963872.000</td>\n",
       "      <td>1964400.00</td>\n",
       "    </tr>\n",
       "    <tr>\n",
       "      <th>sqft_living</th>\n",
       "      <td>21613.0</td>\n",
       "      <td>2070.894721</td>\n",
       "      <td>872.755768</td>\n",
       "      <td>720.00</td>\n",
       "      <td>720.0000</td>\n",
       "      <td>790.00</td>\n",
       "      <td>840.00</td>\n",
       "      <td>900.00</td>\n",
       "      <td>940.0</td>\n",
       "      <td>1427.00</td>\n",
       "      <td>1910.00</td>\n",
       "      <td>2550.0</td>\n",
       "      <td>3250.0</td>\n",
       "      <td>3760.0</td>\n",
       "      <td>3920.00</td>\n",
       "      <td>4140.00</td>\n",
       "      <td>4410.00</td>\n",
       "      <td>4977.744</td>\n",
       "      <td>4978.80</td>\n",
       "    </tr>\n",
       "    <tr>\n",
       "      <th>sqft_lot</th>\n",
       "      <td>21613.0</td>\n",
       "      <td>13985.009996</td>\n",
       "      <td>27703.147345</td>\n",
       "      <td>1013.12</td>\n",
       "      <td>1013.2256</td>\n",
       "      <td>1184.00</td>\n",
       "      <td>1305.36</td>\n",
       "      <td>1489.48</td>\n",
       "      <td>1800.0</td>\n",
       "      <td>5040.00</td>\n",
       "      <td>7618.00</td>\n",
       "      <td>10688.0</td>\n",
       "      <td>21397.6</td>\n",
       "      <td>43339.2</td>\n",
       "      <td>50658.16</td>\n",
       "      <td>67436.84</td>\n",
       "      <td>107157.00</td>\n",
       "      <td>213008.000</td>\n",
       "      <td>213008.00</td>\n",
       "    </tr>\n",
       "    <tr>\n",
       "      <th>sqft_above</th>\n",
       "      <td>21613.0</td>\n",
       "      <td>1781.797529</td>\n",
       "      <td>795.135471</td>\n",
       "      <td>700.00</td>\n",
       "      <td>700.0000</td>\n",
       "      <td>750.00</td>\n",
       "      <td>790.00</td>\n",
       "      <td>820.00</td>\n",
       "      <td>850.0</td>\n",
       "      <td>1190.00</td>\n",
       "      <td>1560.00</td>\n",
       "      <td>2210.0</td>\n",
       "      <td>2950.0</td>\n",
       "      <td>3400.0</td>\n",
       "      <td>3520.00</td>\n",
       "      <td>3700.00</td>\n",
       "      <td>3970.00</td>\n",
       "      <td>4370.000</td>\n",
       "      <td>4370.00</td>\n",
       "    </tr>\n",
       "    <tr>\n",
       "      <th>sqft_basement</th>\n",
       "      <td>21613.0</td>\n",
       "      <td>288.171008</td>\n",
       "      <td>429.005284</td>\n",
       "      <td>0.00</td>\n",
       "      <td>0.0000</td>\n",
       "      <td>0.00</td>\n",
       "      <td>0.00</td>\n",
       "      <td>0.00</td>\n",
       "      <td>0.0</td>\n",
       "      <td>0.00</td>\n",
       "      <td>0.00</td>\n",
       "      <td>560.0</td>\n",
       "      <td>970.0</td>\n",
       "      <td>1190.0</td>\n",
       "      <td>1250.00</td>\n",
       "      <td>1340.00</td>\n",
       "      <td>1450.00</td>\n",
       "      <td>1660.000</td>\n",
       "      <td>1660.00</td>\n",
       "    </tr>\n",
       "    <tr>\n",
       "      <th>sqft_lot15</th>\n",
       "      <td>21613.0</td>\n",
       "      <td>12004.317822</td>\n",
       "      <td>19872.532922</td>\n",
       "      <td>1191.24</td>\n",
       "      <td>1191.4512</td>\n",
       "      <td>1296.24</td>\n",
       "      <td>1426.36</td>\n",
       "      <td>1670.96</td>\n",
       "      <td>1999.2</td>\n",
       "      <td>5100.00</td>\n",
       "      <td>7620.00</td>\n",
       "      <td>10083.0</td>\n",
       "      <td>17852.4</td>\n",
       "      <td>37062.8</td>\n",
       "      <td>42654.44</td>\n",
       "      <td>51400.00</td>\n",
       "      <td>80188.28</td>\n",
       "      <td>157687.000</td>\n",
       "      <td>157687.00</td>\n",
       "    </tr>\n",
       "    <tr>\n",
       "      <th>sqft_living15</th>\n",
       "      <td>21613.0</td>\n",
       "      <td>1982.897238</td>\n",
       "      <td>666.839300</td>\n",
       "      <td>950.00</td>\n",
       "      <td>950.0000</td>\n",
       "      <td>1020.00</td>\n",
       "      <td>1060.00</td>\n",
       "      <td>1100.00</td>\n",
       "      <td>1140.0</td>\n",
       "      <td>1490.00</td>\n",
       "      <td>1840.00</td>\n",
       "      <td>2360.0</td>\n",
       "      <td>2930.0</td>\n",
       "      <td>3300.0</td>\n",
       "      <td>3420.00</td>\n",
       "      <td>3560.00</td>\n",
       "      <td>3767.60</td>\n",
       "      <td>4080.000</td>\n",
       "      <td>4080.00</td>\n",
       "    </tr>\n",
       "    <tr>\n",
       "      <th>bedrooms</th>\n",
       "      <td>21613.0</td>\n",
       "      <td>3.375422</td>\n",
       "      <td>0.866261</td>\n",
       "      <td>2.00</td>\n",
       "      <td>2.0000</td>\n",
       "      <td>2.00</td>\n",
       "      <td>2.00</td>\n",
       "      <td>2.00</td>\n",
       "      <td>2.0</td>\n",
       "      <td>3.00</td>\n",
       "      <td>3.00</td>\n",
       "      <td>4.0</td>\n",
       "      <td>4.0</td>\n",
       "      <td>5.0</td>\n",
       "      <td>5.00</td>\n",
       "      <td>5.00</td>\n",
       "      <td>5.00</td>\n",
       "      <td>6.000</td>\n",
       "      <td>6.00</td>\n",
       "    </tr>\n",
       "    <tr>\n",
       "      <th>bathrooms</th>\n",
       "      <td>21613.0</td>\n",
       "      <td>2.110501</td>\n",
       "      <td>0.746825</td>\n",
       "      <td>1.00</td>\n",
       "      <td>1.0000</td>\n",
       "      <td>1.00</td>\n",
       "      <td>1.00</td>\n",
       "      <td>1.00</td>\n",
       "      <td>1.0</td>\n",
       "      <td>1.75</td>\n",
       "      <td>2.25</td>\n",
       "      <td>2.5</td>\n",
       "      <td>3.0</td>\n",
       "      <td>3.5</td>\n",
       "      <td>3.50</td>\n",
       "      <td>3.50</td>\n",
       "      <td>3.75</td>\n",
       "      <td>4.250</td>\n",
       "      <td>4.25</td>\n",
       "    </tr>\n",
       "    <tr>\n",
       "      <th>grade</th>\n",
       "      <td>21613.0</td>\n",
       "      <td>7.653311</td>\n",
       "      <td>1.151958</td>\n",
       "      <td>5.00</td>\n",
       "      <td>5.0000</td>\n",
       "      <td>6.00</td>\n",
       "      <td>6.00</td>\n",
       "      <td>6.00</td>\n",
       "      <td>6.0</td>\n",
       "      <td>7.00</td>\n",
       "      <td>7.00</td>\n",
       "      <td>8.0</td>\n",
       "      <td>9.0</td>\n",
       "      <td>10.0</td>\n",
       "      <td>10.00</td>\n",
       "      <td>10.00</td>\n",
       "      <td>11.00</td>\n",
       "      <td>11.000</td>\n",
       "      <td>11.00</td>\n",
       "    </tr>\n",
       "    <tr>\n",
       "      <th>floors</th>\n",
       "      <td>21613.0</td>\n",
       "      <td>1.494309</td>\n",
       "      <td>0.539989</td>\n",
       "      <td>1.00</td>\n",
       "      <td>1.0000</td>\n",
       "      <td>1.00</td>\n",
       "      <td>1.00</td>\n",
       "      <td>1.00</td>\n",
       "      <td>1.0</td>\n",
       "      <td>1.00</td>\n",
       "      <td>1.50</td>\n",
       "      <td>2.0</td>\n",
       "      <td>2.0</td>\n",
       "      <td>2.0</td>\n",
       "      <td>2.00</td>\n",
       "      <td>2.50</td>\n",
       "      <td>3.00</td>\n",
       "      <td>3.000</td>\n",
       "      <td>3.50</td>\n",
       "    </tr>\n",
       "    <tr>\n",
       "      <th>waterfront</th>\n",
       "      <td>21613.0</td>\n",
       "      <td>0.007542</td>\n",
       "      <td>0.086517</td>\n",
       "      <td>0.00</td>\n",
       "      <td>0.0000</td>\n",
       "      <td>0.00</td>\n",
       "      <td>0.00</td>\n",
       "      <td>0.00</td>\n",
       "      <td>0.0</td>\n",
       "      <td>0.00</td>\n",
       "      <td>0.00</td>\n",
       "      <td>0.0</td>\n",
       "      <td>0.0</td>\n",
       "      <td>0.0</td>\n",
       "      <td>0.00</td>\n",
       "      <td>0.00</td>\n",
       "      <td>0.00</td>\n",
       "      <td>0.000</td>\n",
       "      <td>1.00</td>\n",
       "    </tr>\n",
       "    <tr>\n",
       "      <th>view</th>\n",
       "      <td>21613.0</td>\n",
       "      <td>0.234303</td>\n",
       "      <td>0.766318</td>\n",
       "      <td>0.00</td>\n",
       "      <td>0.0000</td>\n",
       "      <td>0.00</td>\n",
       "      <td>0.00</td>\n",
       "      <td>0.00</td>\n",
       "      <td>0.0</td>\n",
       "      <td>0.00</td>\n",
       "      <td>0.00</td>\n",
       "      <td>0.0</td>\n",
       "      <td>0.0</td>\n",
       "      <td>2.0</td>\n",
       "      <td>2.00</td>\n",
       "      <td>3.00</td>\n",
       "      <td>3.00</td>\n",
       "      <td>4.000</td>\n",
       "      <td>4.00</td>\n",
       "    </tr>\n",
       "    <tr>\n",
       "      <th>condition</th>\n",
       "      <td>21613.0</td>\n",
       "      <td>3.409430</td>\n",
       "      <td>0.650743</td>\n",
       "      <td>1.00</td>\n",
       "      <td>3.0000</td>\n",
       "      <td>3.00</td>\n",
       "      <td>3.00</td>\n",
       "      <td>3.00</td>\n",
       "      <td>3.0</td>\n",
       "      <td>3.00</td>\n",
       "      <td>3.00</td>\n",
       "      <td>4.0</td>\n",
       "      <td>4.0</td>\n",
       "      <td>5.0</td>\n",
       "      <td>5.00</td>\n",
       "      <td>5.00</td>\n",
       "      <td>5.00</td>\n",
       "      <td>5.000</td>\n",
       "      <td>5.00</td>\n",
       "    </tr>\n",
       "    <tr>\n",
       "      <th>yr_renovated</th>\n",
       "      <td>21613.0</td>\n",
       "      <td>84.402258</td>\n",
       "      <td>401.679240</td>\n",
       "      <td>0.00</td>\n",
       "      <td>0.0000</td>\n",
       "      <td>0.00</td>\n",
       "      <td>0.00</td>\n",
       "      <td>0.00</td>\n",
       "      <td>0.0</td>\n",
       "      <td>0.00</td>\n",
       "      <td>0.00</td>\n",
       "      <td>0.0</td>\n",
       "      <td>0.0</td>\n",
       "      <td>0.0</td>\n",
       "      <td>1965.00</td>\n",
       "      <td>1989.00</td>\n",
       "      <td>2000.00</td>\n",
       "      <td>2008.000</td>\n",
       "      <td>2015.00</td>\n",
       "    </tr>\n",
       "    <tr>\n",
       "      <th>house_yr</th>\n",
       "      <td>21613.0</td>\n",
       "      <td>50.994864</td>\n",
       "      <td>29.373411</td>\n",
       "      <td>7.00</td>\n",
       "      <td>8.0000</td>\n",
       "      <td>8.00</td>\n",
       "      <td>9.00</td>\n",
       "      <td>10.00</td>\n",
       "      <td>11.0</td>\n",
       "      <td>25.00</td>\n",
       "      <td>47.00</td>\n",
       "      <td>71.0</td>\n",
       "      <td>96.0</td>\n",
       "      <td>107.0</td>\n",
       "      <td>110.00</td>\n",
       "      <td>112.00</td>\n",
       "      <td>115.00</td>\n",
       "      <td>118.000</td>\n",
       "      <td>122.00</td>\n",
       "    </tr>\n",
       "  </tbody>\n",
       "</table>\n",
       "</div>"
      ],
      "text/plain": [
       "                 count           mean            std        min           1%  \\\n",
       "price          21613.0  532888.126735  317438.089268  153500.36  153500.6768   \n",
       "sqft_living    21613.0    2070.894721     872.755768     720.00     720.0000   \n",
       "sqft_lot       21613.0   13985.009996   27703.147345    1013.12    1013.2256   \n",
       "sqft_above     21613.0    1781.797529     795.135471     700.00     700.0000   \n",
       "sqft_basement  21613.0     288.171008     429.005284       0.00       0.0000   \n",
       "sqft_lot15     21613.0   12004.317822   19872.532922    1191.24    1191.4512   \n",
       "sqft_living15  21613.0    1982.897238     666.839300     950.00     950.0000   \n",
       "bedrooms       21613.0       3.375422       0.866261       2.00       2.0000   \n",
       "bathrooms      21613.0       2.110501       0.746825       1.00       1.0000   \n",
       "grade          21613.0       7.653311       1.151958       5.00       5.0000   \n",
       "floors         21613.0       1.494309       0.539989       1.00       1.0000   \n",
       "waterfront     21613.0       0.007542       0.086517       0.00       0.0000   \n",
       "view           21613.0       0.234303       0.766318       0.00       0.0000   \n",
       "condition      21613.0       3.409430       0.650743       1.00       3.0000   \n",
       "yr_renovated   21613.0      84.402258     401.679240       0.00       0.0000   \n",
       "house_yr       21613.0      50.994864      29.373411       7.00       8.0000   \n",
       "\n",
       "                      2%         3%         4%        5%        25%  \\\n",
       "price          175000.00  191342.00  202344.00  210000.0  321950.00   \n",
       "sqft_living       790.00     840.00     900.00     940.0    1427.00   \n",
       "sqft_lot         1184.00    1305.36    1489.48    1800.0    5040.00   \n",
       "sqft_above        750.00     790.00     820.00     850.0    1190.00   \n",
       "sqft_basement       0.00       0.00       0.00       0.0       0.00   \n",
       "sqft_lot15       1296.24    1426.36    1670.96    1999.2    5100.00   \n",
       "sqft_living15    1020.00    1060.00    1100.00    1140.0    1490.00   \n",
       "bedrooms            2.00       2.00       2.00       2.0       3.00   \n",
       "bathrooms           1.00       1.00       1.00       1.0       1.75   \n",
       "grade               6.00       6.00       6.00       6.0       7.00   \n",
       "floors              1.00       1.00       1.00       1.0       1.00   \n",
       "waterfront          0.00       0.00       0.00       0.0       0.00   \n",
       "view                0.00       0.00       0.00       0.0       0.00   \n",
       "condition           3.00       3.00       3.00       3.0       3.00   \n",
       "yr_renovated        0.00       0.00       0.00       0.0       0.00   \n",
       "house_yr            8.00       9.00      10.00      11.0      25.00   \n",
       "\n",
       "                     50%       75%       90%        95%         96%  \\\n",
       "price          450000.00  645000.0  887000.0  1156480.0  1259040.00   \n",
       "sqft_living      1910.00    2550.0    3250.0     3760.0     3920.00   \n",
       "sqft_lot         7618.00   10688.0   21397.6    43339.2    50658.16   \n",
       "sqft_above       1560.00    2210.0    2950.0     3400.0     3520.00   \n",
       "sqft_basement       0.00     560.0     970.0     1190.0     1250.00   \n",
       "sqft_lot15       7620.00   10083.0   17852.4    37062.8    42654.44   \n",
       "sqft_living15    1840.00    2360.0    2930.0     3300.0     3420.00   \n",
       "bedrooms            3.00       4.0       4.0        5.0        5.00   \n",
       "bathrooms           2.25       2.5       3.0        3.5        3.50   \n",
       "grade               7.00       8.0       9.0       10.0       10.00   \n",
       "floors              1.50       2.0       2.0        2.0        2.00   \n",
       "waterfront          0.00       0.0       0.0        0.0        0.00   \n",
       "view                0.00       0.0       0.0        2.0        2.00   \n",
       "condition           3.00       4.0       4.0        5.0        5.00   \n",
       "yr_renovated        0.00       0.0       0.0        0.0     1965.00   \n",
       "house_yr           47.00      71.0      96.0      107.0      110.00   \n",
       "\n",
       "                      97%         98%          99%         max  \n",
       "price          1388000.00  1600000.00  1963872.000  1964400.00  \n",
       "sqft_living       4140.00     4410.00     4977.744     4978.80  \n",
       "sqft_lot         67436.84   107157.00   213008.000   213008.00  \n",
       "sqft_above        3700.00     3970.00     4370.000     4370.00  \n",
       "sqft_basement     1340.00     1450.00     1660.000     1660.00  \n",
       "sqft_lot15       51400.00    80188.28   157687.000   157687.00  \n",
       "sqft_living15     3560.00     3767.60     4080.000     4080.00  \n",
       "bedrooms             5.00        5.00        6.000        6.00  \n",
       "bathrooms            3.50        3.75        4.250        4.25  \n",
       "grade               10.00       11.00       11.000       11.00  \n",
       "floors               2.50        3.00        3.000        3.50  \n",
       "waterfront           0.00        0.00        0.000        1.00  \n",
       "view                 3.00        3.00        4.000        4.00  \n",
       "condition            5.00        5.00        5.000        5.00  \n",
       "yr_renovated      1989.00     2000.00     2008.000     2015.00  \n",
       "house_yr           112.00      115.00      118.000      122.00  "
      ]
     },
     "execution_count": 37,
     "metadata": {},
     "output_type": "execute_result"
    }
   ],
   "source": [
    "df2.describe(percentiles=[.01,.02,.03,.04,.05,.25,.5,.75,.90,.95,.96,.97,.98,.99]).T"
   ]
  },
  {
   "cell_type": "code",
   "execution_count": null,
   "id": "1e789ee4",
   "metadata": {},
   "outputs": [],
   "source": []
  },
  {
   "cell_type": "code",
   "execution_count": null,
   "id": "267e7edc",
   "metadata": {},
   "outputs": [],
   "source": []
  },
  {
   "cell_type": "code",
   "execution_count": null,
   "id": "050b7370",
   "metadata": {},
   "outputs": [],
   "source": []
  },
  {
   "cell_type": "markdown",
   "id": "ba1aad6a",
   "metadata": {},
   "source": [
    "## Multicollinearility"
   ]
  },
  {
   "cell_type": "code",
   "execution_count": 38,
   "id": "f5bb4397",
   "metadata": {},
   "outputs": [
    {
     "data": {
      "image/png": "[encoded data removed]",
      "text/plain": [
       "<Figure size 1008x864 with 2 Axes>"
      ]
     },
     "metadata": {
      "needs_background": "light"
     },
     "output_type": "display_data"
    }
   ],
   "source": [
    "cr=df2.corr()\n",
    "cr\n",
    "plt.figure(figsize=(14,12))\n",
    "sns.heatmap(cr, annot=True, cmap=\"coolwarm\")\n",
    "plt.show()"
   ]
  },
  {
   "cell_type": "code",
   "execution_count": 39,
   "id": "d8aa0510",
   "metadata": {},
   "outputs": [
    {
     "data": {
      "image/png": "[encoded data removed]",
      "text/plain": [
       "<Figure size 720x432 with 2 Axes>"
      ]
     },
     "metadata": {
      "needs_background": "light"
     },
     "output_type": "display_data"
    }
   ],
   "source": [
    "cr1=cr[abs(cr)>.7]\n",
    "\n",
    "plt.figure(figsize=(10,6))\n",
    "sns.heatmap(cr1, annot=True, cmap=\"coolwarm\")\n",
    "plt.show()                                                #annot = show numbers in graaph"
   ]
  },
  {
   "cell_type": "code",
   "execution_count": 40,
   "id": "49d28785",
   "metadata": {},
   "outputs": [
    {
     "data": {
      "image/png": "[encoded data removed]",
      "text/plain": [
       "<Figure size 1008x864 with 2 Axes>"
      ]
     },
     "metadata": {
      "needs_background": "light"
     },
     "output_type": "display_data"
    }
   ],
   "source": [
    "cr=df2.corr()\n",
    "cr\n",
    "plt.figure(figsize=(14,12))\n",
    "sns.heatmap(cr, annot=True, cmap=\"coolwarm\")\n",
    "plt.show()"
   ]
  },
  {
   "cell_type": "code",
   "execution_count": 41,
   "id": "3a836312",
   "metadata": {},
   "outputs": [
    {
     "data": {
      "image/png": "[encoded data removed]",
      "text/plain": [
       "<Figure size 720x432 with 2 Axes>"
      ]
     },
     "metadata": {
      "needs_background": "light"
     },
     "output_type": "display_data"
    }
   ],
   "source": [
    "cr2=cr[abs(cr)>.7]\n",
    "\n",
    "plt.figure(figsize=(10,6))\n",
    "sns.heatmap(cr2, annot=True, cmap=\"coolwarm\")\n",
    "plt.show()                                                #annot = show numbers in graaph"
   ]
  },
  {
   "cell_type": "code",
   "execution_count": null,
   "id": "49c8451a",
   "metadata": {},
   "outputs": [],
   "source": []
  },
  {
   "cell_type": "code",
   "execution_count": null,
   "id": "fe45a18d",
   "metadata": {},
   "outputs": [],
   "source": []
  },
  {
   "cell_type": "code",
   "execution_count": 42,
   "id": "975e74bd",
   "metadata": {},
   "outputs": [
    {
     "data": {
      "text/plain": [
       "Index(['price', 'sqft_living', 'sqft_lot', 'sqft_above', 'sqft_basement',\n",
       "       'sqft_lot15', 'sqft_living15', 'bedrooms', 'bathrooms', 'grade',\n",
       "       'floors', 'waterfront', 'view', 'condition', 'yr_renovated',\n",
       "       'house_yr'],\n",
       "      dtype='object')"
      ]
     },
     "execution_count": 42,
     "metadata": {},
     "output_type": "execute_result"
    }
   ],
   "source": [
    "df2.columns"
   ]
  },
  {
   "cell_type": "code",
   "execution_count": 43,
   "id": "006f990e",
   "metadata": {},
   "outputs": [
    {
     "data": {
      "text/html": [
       "<div>\n",
       "<style scoped>\n",
       "    .dataframe tbody tr th:only-of-type {\n",
       "        vertical-align: middle;\n",
       "    }\n",
       "\n",
       "    .dataframe tbody tr th {\n",
       "        vertical-align: top;\n",
       "    }\n",
       "\n",
       "    .dataframe thead th {\n",
       "        text-align: right;\n",
       "    }\n",
       "</style>\n",
       "<table border=\"1\" class=\"dataframe\">\n",
       "  <thead>\n",
       "    <tr style=\"text-align: right;\">\n",
       "      <th></th>\n",
       "      <th>feature</th>\n",
       "      <th>VIF</th>\n",
       "    </tr>\n",
       "  </thead>\n",
       "  <tbody>\n",
       "    <tr>\n",
       "      <th>13</th>\n",
       "      <td>yr_renovated</td>\n",
       "      <td>1.195174</td>\n",
       "    </tr>\n",
       "    <tr>\n",
       "      <th>10</th>\n",
       "      <td>waterfront</td>\n",
       "      <td>1.212348</td>\n",
       "    </tr>\n",
       "    <tr>\n",
       "      <th>11</th>\n",
       "      <td>view</td>\n",
       "      <td>1.502065</td>\n",
       "    </tr>\n",
       "    <tr>\n",
       "      <th>1</th>\n",
       "      <td>sqft_lot</td>\n",
       "      <td>4.301330</td>\n",
       "    </tr>\n",
       "    <tr>\n",
       "      <th>4</th>\n",
       "      <td>sqft_lot15</td>\n",
       "      <td>4.719083</td>\n",
       "    </tr>\n",
       "    <tr>\n",
       "      <th>14</th>\n",
       "      <td>house_yr</td>\n",
       "      <td>7.225732</td>\n",
       "    </tr>\n",
       "    <tr>\n",
       "      <th>9</th>\n",
       "      <td>floors</td>\n",
       "      <td>16.510193</td>\n",
       "    </tr>\n",
       "    <tr>\n",
       "      <th>6</th>\n",
       "      <td>bedrooms</td>\n",
       "      <td>25.191403</td>\n",
       "    </tr>\n",
       "    <tr>\n",
       "      <th>5</th>\n",
       "      <td>sqft_living15</td>\n",
       "      <td>28.688280</td>\n",
       "    </tr>\n",
       "    <tr>\n",
       "      <th>12</th>\n",
       "      <td>condition</td>\n",
       "      <td>29.236860</td>\n",
       "    </tr>\n",
       "    <tr>\n",
       "      <th>7</th>\n",
       "      <td>bathrooms</td>\n",
       "      <td>30.098040</td>\n",
       "    </tr>\n",
       "    <tr>\n",
       "      <th>3</th>\n",
       "      <td>sqft_basement</td>\n",
       "      <td>60.291269</td>\n",
       "    </tr>\n",
       "    <tr>\n",
       "      <th>8</th>\n",
       "      <td>grade</td>\n",
       "      <td>71.507903</td>\n",
       "    </tr>\n",
       "    <tr>\n",
       "      <th>2</th>\n",
       "      <td>sqft_above</td>\n",
       "      <td>873.310978</td>\n",
       "    </tr>\n",
       "    <tr>\n",
       "      <th>0</th>\n",
       "      <td>sqft_living</td>\n",
       "      <td>1153.931399</td>\n",
       "    </tr>\n",
       "  </tbody>\n",
       "</table>\n",
       "</div>"
      ],
      "text/plain": [
       "          feature          VIF\n",
       "13   yr_renovated     1.195174\n",
       "10     waterfront     1.212348\n",
       "11           view     1.502065\n",
       "1        sqft_lot     4.301330\n",
       "4      sqft_lot15     4.719083\n",
       "14       house_yr     7.225732\n",
       "9          floors    16.510193\n",
       "6        bedrooms    25.191403\n",
       "5   sqft_living15    28.688280\n",
       "12      condition    29.236860\n",
       "7       bathrooms    30.098040\n",
       "3   sqft_basement    60.291269\n",
       "8           grade    71.507903\n",
       "2      sqft_above   873.310978\n",
       "0     sqft_living  1153.931399"
      ]
     },
     "execution_count": 43,
     "metadata": {},
     "output_type": "execute_result"
    }
   ],
   "source": [
    "from statsmodels.stats.outliers_influence import variance_inflation_factor\n",
    "X=df2[['sqft_living', 'sqft_lot', 'sqft_above', 'sqft_basement',\n",
    "       'sqft_lot15', 'sqft_living15', 'bedrooms', 'bathrooms', 'grade',\n",
    "       'floors', 'waterfront', 'view', 'condition', 'yr_renovated',\n",
    "       'house_yr']]          \n",
    "\n",
    "vif_data=pd.DataFrame()\n",
    "vif_data[\"feature\"]=X.columns\n",
    "\n",
    "# calculating vif for each feature\n",
    "\n",
    "vif_data[\"VIF\"]=[variance_inflation_factor(X.values,i)\n",
    "                for i in range(len(X.columns))]\n",
    "\n",
    "vif_data.sort_values(by=[\"VIF\"])"
   ]
  },
  {
   "cell_type": "code",
   "execution_count": null,
   "id": "f9a971a8",
   "metadata": {},
   "outputs": [],
   "source": []
  },
  {
   "cell_type": "markdown",
   "id": "0ae397c6",
   "metadata": {},
   "source": [
    "* vif is very high in sqft_living,  sqft_above so we can drop that columns"
   ]
  },
  {
   "cell_type": "code",
   "execution_count": 44,
   "id": "b73bf1da",
   "metadata": {},
   "outputs": [],
   "source": [
    "df2.drop(columns=[ \"sqft_above\", \"sqft_living\", \"sqft_lot\" ], inplace=True)"
   ]
  },
  {
   "cell_type": "code",
   "execution_count": null,
   "id": "3afeac9b",
   "metadata": {},
   "outputs": [],
   "source": []
  },
  {
   "cell_type": "code",
   "execution_count": null,
   "id": "e3d47592",
   "metadata": {},
   "outputs": [],
   "source": []
  },
  {
   "cell_type": "code",
   "execution_count": null,
   "id": "da20fbe7",
   "metadata": {},
   "outputs": [],
   "source": []
  },
  {
   "cell_type": "code",
   "execution_count": 45,
   "id": "ab2cd8d3",
   "metadata": {},
   "outputs": [
    {
     "data": {
      "text/plain": [
       "Index(['price', 'sqft_basement', 'sqft_lot15', 'sqft_living15', 'bedrooms',\n",
       "       'bathrooms', 'grade', 'floors', 'waterfront', 'view', 'condition',\n",
       "       'yr_renovated', 'house_yr'],\n",
       "      dtype='object')"
      ]
     },
     "execution_count": 45,
     "metadata": {},
     "output_type": "execute_result"
    }
   ],
   "source": [
    "df2.columns"
   ]
  },
  {
   "cell_type": "markdown",
   "id": "41527470",
   "metadata": {},
   "source": [
    "## Normality check"
   ]
  },
  {
   "cell_type": "code",
   "execution_count": 46,
   "id": "63d10f74",
   "metadata": {},
   "outputs": [],
   "source": [
    "from scipy.stats import jarque_bera"
   ]
  },
  {
   "cell_type": "code",
   "execution_count": 47,
   "id": "3674cb5d",
   "metadata": {},
   "outputs": [
    {
     "data": {
      "image/png": "[encoded data removed]",
      "text/plain": [
       "<Figure size 432x288 with 1 Axes>"
      ]
     },
     "metadata": {
      "needs_background": "light"
     },
     "output_type": "display_data"
    }
   ],
   "source": [
    "sns.histplot(df2[\"price\"])\n",
    "plt.show()"
   ]
  },
  {
   "cell_type": "code",
   "execution_count": 48,
   "id": "d3a47bcd",
   "metadata": {},
   "outputs": [
    {
     "data": {
      "text/plain": [
       "Jarque_beraResult(statistic=41724.37424381912, pvalue=0.0)"
      ]
     },
     "execution_count": 48,
     "metadata": {},
     "output_type": "execute_result"
    }
   ],
   "source": [
    "jarque_bera(df2[\"price\"])"
   ]
  },
  {
   "cell_type": "code",
   "execution_count": 49,
   "id": "6d5d51eb",
   "metadata": {},
   "outputs": [
    {
     "data": {
      "text/plain": [
       "<AxesSubplot:xlabel='price', ylabel='Count'>"
      ]
     },
     "execution_count": 49,
     "metadata": {},
     "output_type": "execute_result"
    },
    {
     "data": {
      "image/png": "[encoded data removed]",
      "text/plain": [
       "<Figure size 576x432 with 2 Axes>"
      ]
     },
     "metadata": {
      "needs_background": "light"
     },
     "output_type": "display_data"
    }
   ],
   "source": [
    "plt.figure(figsize=(8,6))\n",
    "plt.subplot(221)\n",
    "sns.histplot(df2[\"price\"], kde=True)         # first row second columns and 3 position (121)\n",
    "plt.subplot(222)\n",
    "sns.histplot(np.log1p(df2[\"price\"]), kde=True)"
   ]
  },
  {
   "cell_type": "code",
   "execution_count": 50,
   "id": "d97baf63",
   "metadata": {},
   "outputs": [
    {
     "data": {
      "text/plain": [
       "Jarque_beraResult(statistic=41724.37424381912, pvalue=0.0)"
      ]
     },
     "execution_count": 50,
     "metadata": {},
     "output_type": "execute_result"
    }
   ],
   "source": [
    "jarque_bera((df2[\"price\"]))"
   ]
  },
  {
   "cell_type": "markdown",
   "id": "8b603ff4",
   "metadata": {},
   "source": [
    "## Model dev practise"
   ]
  },
  {
   "cell_type": "code",
   "execution_count": 76,
   "id": "ee7e8841",
   "metadata": {},
   "outputs": [],
   "source": [
    "x=df2[[ 'sqft_basement', 'sqft_lot15', 'sqft_living15', 'bedrooms',\n",
    "       'bathrooms', 'grade', 'floors', 'waterfront', 'view', 'condition',\n",
    "       'yr_renovated', 'house_yr']]\n",
    "y=df2[\"price\"]"
   ]
  },
  {
   "cell_type": "code",
   "execution_count": 79,
   "id": "9ae16821",
   "metadata": {},
   "outputs": [],
   "source": [
    "from sklearn.model_selection import train_test_split\n",
    "from sklearn.linear_model import LinearRegression\n",
    "from sklearn import metrics"
   ]
  },
  {
   "cell_type": "code",
   "execution_count": 81,
   "id": "62f20b89",
   "metadata": {},
   "outputs": [
    {
     "data": {
      "text/plain": [
       "LinearRegression()"
      ]
     },
     "execution_count": 81,
     "metadata": {},
     "output_type": "execute_result"
    }
   ],
   "source": [
    "reg=LinearRegression()\n",
    "reg.fit(x_train, y_train)"
   ]
  },
  {
   "cell_type": "code",
   "execution_count": 83,
   "id": "618d3f26",
   "metadata": {},
   "outputs": [
    {
     "name": "stdout",
     "output_type": "stream",
     "text": [
      " Train R2 score :  0.6577470624554909\n"
     ]
    }
   ],
   "source": [
    "print(\" Train R2 score : \", reg.score(x_train, y_train))"
   ]
  },
  {
   "cell_type": "code",
   "execution_count": 84,
   "id": "748e8bfd",
   "metadata": {},
   "outputs": [
    {
     "name": "stdout",
     "output_type": "stream",
     "text": [
      " Test R2 score :  0.6570530855124637\n"
     ]
    }
   ],
   "source": [
    "print(\" Test R2 score : \", reg.score(x_test, y_test))"
   ]
  },
  {
   "cell_type": "code",
   "execution_count": 85,
   "id": "71a87bde",
   "metadata": {},
   "outputs": [
    {
     "data": {
      "text/plain": [
       "array([ 6.99051369e+01, -2.14167084e-01,  9.61193291e+01, -7.28881511e+03,\n",
       "        6.66083081e+04,  1.42125793e+05,  5.46300416e+04,  3.58469910e+05,\n",
       "        3.99460560e+04,  1.99137226e+04,  1.41420070e+01,  3.48956895e+03])"
      ]
     },
     "execution_count": 85,
     "metadata": {},
     "output_type": "execute_result"
    }
   ],
   "source": [
    "reg.coef_"
   ]
  },
  {
   "cell_type": "code",
   "execution_count": 87,
   "id": "a74247b7",
   "metadata": {},
   "outputs": [
    {
     "data": {
      "text/plain": [
       "-1219300.1980197746"
      ]
     },
     "execution_count": 87,
     "metadata": {},
     "output_type": "execute_result"
    }
   ],
   "source": [
    "reg.intercept_"
   ]
  },
  {
   "cell_type": "code",
   "execution_count": 89,
   "id": "cdca4e81",
   "metadata": {},
   "outputs": [
    {
     "data": {
      "text/plain": [
       "array([ 88774.12392248, 414774.15111162, 596084.53911477, ...,\n",
       "       734023.29374727, 562894.58880632, 494683.68037315])"
      ]
     },
     "execution_count": 89,
     "metadata": {},
     "output_type": "execute_result"
    }
   ],
   "source": [
    "pred_train=reg.predict(x_train)\n",
    "pred_train"
   ]
  },
  {
   "cell_type": "code",
   "execution_count": 90,
   "id": "160f5b18",
   "metadata": {},
   "outputs": [
    {
     "data": {
      "text/plain": [
       "array([ 301903.82969379, 1222335.53583833,  473123.83680786, ...,\n",
       "        859365.12344245,  258231.30702413,  465689.47001852])"
      ]
     },
     "execution_count": 90,
     "metadata": {},
     "output_type": "execute_result"
    }
   ],
   "source": [
    "pred_test=reg.predict(x_test)\n",
    "pred_test"
   ]
  },
  {
   "cell_type": "code",
   "execution_count": 91,
   "id": "63e350f5",
   "metadata": {},
   "outputs": [
    {
     "data": {
      "text/plain": [
       "1956      420850.0\n",
       "15678     335000.0\n",
       "8729      587100.0\n",
       "19064     495000.0\n",
       "11291     780000.0\n",
       "           ...    \n",
       "13123    1180000.0\n",
       "19648     299000.0\n",
       "9845      431000.0\n",
       "10799     411000.0\n",
       "2732      699900.0\n",
       "Name: price, Length: 16209, dtype: float64"
      ]
     },
     "execution_count": 91,
     "metadata": {},
     "output_type": "execute_result"
    }
   ],
   "source": [
    "y_train=(y_train)\n",
    "y_train"
   ]
  },
  {
   "cell_type": "code",
   "execution_count": 177,
   "id": "0ead4dd2",
   "metadata": {},
   "outputs": [
    {
     "data": {
      "text/plain": [
       "17384     297000.0\n",
       "722      1578000.0\n",
       "2680      562100.0\n",
       "18754     631500.0\n",
       "14554     780000.0\n",
       "           ...    \n",
       "8709      649990.0\n",
       "12346     390000.0\n",
       "10458     774950.0\n",
       "10894     372500.0\n",
       "15647     599995.0\n",
       "Name: price, Length: 5404, dtype: float64"
      ]
     },
     "execution_count": 177,
     "metadata": {},
     "output_type": "execute_result"
    }
   ],
   "source": [
    "y_test=(y_test)\n",
    "y_test"
   ]
  },
  {
   "cell_type": "code",
   "execution_count": 178,
   "id": "ce8147e3",
   "metadata": {},
   "outputs": [
    {
     "name": "stdout",
     "output_type": "stream",
     "text": [
      "train MSE :  34662886590.671295\n",
      "train rmse : 186179.71584109613\n",
      "train MAE :  132192.3513468326\n",
      "train MAPE:  0.2829230650525299\n"
     ]
    }
   ],
   "source": [
    "print(\"train MSE : \", (np.mean((pred_train-y_train)**(2))))\n",
    "print(\"train rmse :\", (np.mean((pred_train-y_train)**(2)))**(1/2))\n",
    "print(\"train MAE : \",  np.mean(np.abs(pred_train-y_train)))\n",
    "print(\"train MAPE: \", np.mean(np.abs((pred_train-y_train)/y_train)))"
   ]
  },
  {
   "cell_type": "code",
   "execution_count": 179,
   "id": "253550f2",
   "metadata": {},
   "outputs": [
    {
     "name": "stdout",
     "output_type": "stream",
     "text": [
      "test MSE :  34014886868.77309\n",
      "test rmse : 184431.25241881618\n",
      "test MAE :  130278.4250614368\n",
      "train MAPE:  0.28144917114632045\n"
     ]
    }
   ],
   "source": [
    "print(\"test MSE : \", (np.mean((pred_test-y_test)**(2))))\n",
    "print(\"test rmse :\", (np.mean((pred_test-y_test)**(2)))**(1/2))\n",
    "print(\"test MAE : \",  np.mean(np.abs(pred_test-y_test)))\n",
    "print(\"train MAPE: \", np.mean(np.abs((pred_test-y_test)/y_test)))"
   ]
  },
  {
   "cell_type": "code",
   "execution_count": 180,
   "id": "94407f7a",
   "metadata": {},
   "outputs": [],
   "source": [
    "gh=pd.DataFrame({\"ACT\" : y_train, \"pred\": pred_train})"
   ]
  },
  {
   "cell_type": "code",
   "execution_count": 181,
   "id": "89a77e49",
   "metadata": {},
   "outputs": [
    {
     "data": {
      "text/plain": [
       "<AxesSubplot:>"
      ]
     },
     "execution_count": 181,
     "metadata": {},
     "output_type": "execute_result"
    },
    {
     "data": {
      "image/png": "[encoded data removed]",
      "text/plain": [
       "<Figure size 432x288 with 1 Axes>"
      ]
     },
     "metadata": {
      "needs_background": "light"
     },
     "output_type": "display_data"
    }
   ],
   "source": [
    "gh.head(10).plot(kind=\"bar\")"
   ]
  },
  {
   "cell_type": "markdown",
   "id": "1a8cc5e4",
   "metadata": {},
   "source": [
    "## SGD"
   ]
  },
  {
   "cell_type": "code",
   "execution_count": 182,
   "id": "4cbaf5c3",
   "metadata": {},
   "outputs": [],
   "source": [
    "from sklearn.preprocessing import MinMaxScaler"
   ]
  },
  {
   "cell_type": "code",
   "execution_count": 183,
   "id": "3976c162",
   "metadata": {},
   "outputs": [
    {
     "data": {
      "text/plain": [
       "MinMaxScaler()"
      ]
     },
     "execution_count": 183,
     "metadata": {},
     "output_type": "execute_result"
    }
   ],
   "source": [
    "mn=MinMaxScaler()\n",
    "mn.fit(x_train)"
   ]
  },
  {
   "cell_type": "code",
   "execution_count": 188,
   "id": "fd33722c",
   "metadata": {},
   "outputs": [],
   "source": [
    "x_train_trans=mn.transform(x_train)\n",
    "x_test_trans=mn.transform(x_test)"
   ]
  },
  {
   "cell_type": "code",
   "execution_count": 189,
   "id": "dd4df22b",
   "metadata": {},
   "outputs": [
    {
     "data": {
      "text/html": [
       "<div>\n",
       "<style scoped>\n",
       "    .dataframe tbody tr th:only-of-type {\n",
       "        vertical-align: middle;\n",
       "    }\n",
       "\n",
       "    .dataframe tbody tr th {\n",
       "        vertical-align: top;\n",
       "    }\n",
       "\n",
       "    .dataframe thead th {\n",
       "        text-align: right;\n",
       "    }\n",
       "</style>\n",
       "<table border=\"1\" class=\"dataframe\">\n",
       "  <thead>\n",
       "    <tr style=\"text-align: right;\">\n",
       "      <th></th>\n",
       "      <th>sqft_basement</th>\n",
       "      <th>sqft_lot15</th>\n",
       "      <th>sqft_living15</th>\n",
       "      <th>bedrooms</th>\n",
       "      <th>bathrooms</th>\n",
       "      <th>grade</th>\n",
       "      <th>floors</th>\n",
       "      <th>waterfront</th>\n",
       "      <th>view</th>\n",
       "      <th>condition</th>\n",
       "      <th>yr_renovated</th>\n",
       "      <th>house_yr</th>\n",
       "    </tr>\n",
       "  </thead>\n",
       "  <tbody>\n",
       "    <tr>\n",
       "      <th>0</th>\n",
       "      <td>0.0</td>\n",
       "      <td>0.122424</td>\n",
       "      <td>0.118211</td>\n",
       "      <td>0.00</td>\n",
       "      <td>0.000000</td>\n",
       "      <td>0.000000</td>\n",
       "      <td>0.0</td>\n",
       "      <td>0.0</td>\n",
       "      <td>0.0</td>\n",
       "      <td>1.0</td>\n",
       "      <td>0.000000</td>\n",
       "      <td>0.608696</td>\n",
       "    </tr>\n",
       "    <tr>\n",
       "      <th>1</th>\n",
       "      <td>0.0</td>\n",
       "      <td>0.056524</td>\n",
       "      <td>0.182109</td>\n",
       "      <td>0.25</td>\n",
       "      <td>0.230769</td>\n",
       "      <td>0.333333</td>\n",
       "      <td>0.0</td>\n",
       "      <td>0.0</td>\n",
       "      <td>0.0</td>\n",
       "      <td>0.5</td>\n",
       "      <td>0.980645</td>\n",
       "      <td>0.582609</td>\n",
       "    </tr>\n",
       "  </tbody>\n",
       "</table>\n",
       "</div>"
      ],
      "text/plain": [
       "   sqft_basement  sqft_lot15  sqft_living15  bedrooms  bathrooms     grade  \\\n",
       "0            0.0    0.122424       0.118211      0.00   0.000000  0.000000   \n",
       "1            0.0    0.056524       0.182109      0.25   0.230769  0.333333   \n",
       "\n",
       "   floors  waterfront  view  condition  yr_renovated  house_yr  \n",
       "0     0.0         0.0   0.0        1.0      0.000000  0.608696  \n",
       "1     0.0         0.0   0.0        0.5      0.980645  0.582609  "
      ]
     },
     "execution_count": 189,
     "metadata": {},
     "output_type": "execute_result"
    }
   ],
   "source": [
    "x_train_trans_df=pd.DataFrame(x_train_trans, columns=x_train.columns)\n",
    "x_train_trans_df.head(2)"
   ]
  },
  {
   "cell_type": "code",
   "execution_count": 190,
   "id": "de502f97",
   "metadata": {},
   "outputs": [],
   "source": [
    "from sklearn.linear_model import SGDRegressor"
   ]
  },
  {
   "cell_type": "code",
   "execution_count": 191,
   "id": "f3df0fcd",
   "metadata": {},
   "outputs": [],
   "source": [
    "sgd=SGDRegressor(loss=\"squared_error\", epsilon=0.01, penalty=\"l1\", max_iter=100000, tol=1e-7, random_state=0)"
   ]
  },
  {
   "cell_type": "code",
   "execution_count": 192,
   "id": "c61f7838",
   "metadata": {},
   "outputs": [],
   "source": [
    "sgd=SGDRegressor(loss=\"squared_error\" , epsilon=0.01, penalty=\"l1\" ,max_iter=100000000 ,tol=1e-7, random_state=0)"
   ]
  },
  {
   "cell_type": "code",
   "execution_count": 193,
   "id": "419d1a78",
   "metadata": {},
   "outputs": [
    {
     "data": {
      "text/plain": [
       "SGDRegressor(epsilon=0.01, max_iter=100000000, penalty='l1', random_state=0,\n",
       "             tol=1e-07)"
      ]
     },
     "execution_count": 193,
     "metadata": {},
     "output_type": "execute_result"
    }
   ],
   "source": [
    "sgd.fit(x_train_trans, y_train)"
   ]
  },
  {
   "cell_type": "code",
   "execution_count": 194,
   "id": "97db0cae",
   "metadata": {},
   "outputs": [
    {
     "data": {
      "text/plain": [
       "SGDRegressor(epsilon=0.01, max_iter=100000000, penalty='l1', random_state=0,\n",
       "             tol=1e-07)"
      ]
     },
     "execution_count": 194,
     "metadata": {},
     "output_type": "execute_result"
    }
   ],
   "source": [
    "sgd.fit(x_test_trans, y_test)"
   ]
  },
  {
   "cell_type": "code",
   "execution_count": 195,
   "id": "4e61b461",
   "metadata": {},
   "outputs": [
    {
     "data": {
      "text/plain": [
       "0.6559690378174171"
      ]
     },
     "execution_count": 195,
     "metadata": {},
     "output_type": "execute_result"
    }
   ],
   "source": [
    "sgd.score(x_train_trans, y_train)"
   ]
  },
  {
   "cell_type": "code",
   "execution_count": 196,
   "id": "35ac9ad5",
   "metadata": {},
   "outputs": [
    {
     "data": {
      "text/plain": [
       "0.6579850966734666"
      ]
     },
     "execution_count": 196,
     "metadata": {},
     "output_type": "execute_result"
    }
   ],
   "source": [
    "sgd.score(x_test_trans, y_test)"
   ]
  },
  {
   "cell_type": "markdown",
   "id": "bf58b286",
   "metadata": {},
   "source": [
    "## Model development"
   ]
  },
  {
   "cell_type": "code",
   "execution_count": 51,
   "id": "7ff5a667",
   "metadata": {},
   "outputs": [
    {
     "data": {
      "text/plain": [
       "Index(['price', 'sqft_basement', 'sqft_lot15', 'sqft_living15', 'bedrooms',\n",
       "       'bathrooms', 'grade', 'floors', 'waterfront', 'view', 'condition',\n",
       "       'yr_renovated', 'house_yr'],\n",
       "      dtype='object')"
      ]
     },
     "execution_count": 51,
     "metadata": {},
     "output_type": "execute_result"
    }
   ],
   "source": [
    "df2.columns"
   ]
  },
  {
   "cell_type": "code",
   "execution_count": 52,
   "id": "89bbcfb8",
   "metadata": {},
   "outputs": [],
   "source": [
    "x=df2[[ 'sqft_basement', 'sqft_lot15', 'sqft_living15', 'bedrooms',\n",
    "       'bathrooms', 'grade', 'floors', 'waterfront', 'view', 'condition',\n",
    "       'yr_renovated', 'house_yr']]\n",
    "y=df2[\"price\"]"
   ]
  },
  {
   "cell_type": "code",
   "execution_count": 53,
   "id": "a6b9b9fc",
   "metadata": {},
   "outputs": [],
   "source": [
    "from sklearn.model_selection import train_test_split\n",
    "from sklearn.linear_model import LinearRegression  \n",
    "from sklearn import metrics\n"
   ]
  },
  {
   "cell_type": "code",
   "execution_count": 54,
   "id": "853528d2",
   "metadata": {},
   "outputs": [],
   "source": [
    "x_train, x_test, y_train, y_test=train_test_split(x, y , test_size=.25, random_state=0)"
   ]
  },
  {
   "cell_type": "code",
   "execution_count": 55,
   "id": "76939e5f",
   "metadata": {},
   "outputs": [
    {
     "data": {
      "text/plain": [
       "LinearRegression()"
      ]
     },
     "execution_count": 55,
     "metadata": {},
     "output_type": "execute_result"
    }
   ],
   "source": [
    "reg=LinearRegression()\n",
    "reg.fit(x_train, y_train)"
   ]
  },
  {
   "cell_type": "code",
   "execution_count": 56,
   "id": "f95e8f7a",
   "metadata": {},
   "outputs": [
    {
     "data": {
      "text/plain": [
       "array([ 6.99051369e+01, -2.14167084e-01,  9.61193291e+01, -7.28881511e+03,\n",
       "        6.66083081e+04,  1.42125793e+05,  5.46300416e+04,  3.58469910e+05,\n",
       "        3.99460560e+04,  1.99137226e+04,  1.41420070e+01,  3.48956895e+03])"
      ]
     },
     "execution_count": 56,
     "metadata": {},
     "output_type": "execute_result"
    }
   ],
   "source": [
    "reg.coef_"
   ]
  },
  {
   "cell_type": "code",
   "execution_count": null,
   "id": "43c50af9",
   "metadata": {},
   "outputs": [],
   "source": []
  },
  {
   "cell_type": "code",
   "execution_count": 57,
   "id": "9f5ee4bd",
   "metadata": {},
   "outputs": [
    {
     "name": "stdout",
     "output_type": "stream",
     "text": [
      "train R^2 :  0.6577470624554909\n"
     ]
    }
   ],
   "source": [
    "print(\"train R^2 : \",  reg.score(x_train, y_train))"
   ]
  },
  {
   "cell_type": "code",
   "execution_count": 58,
   "id": "c738f99e",
   "metadata": {},
   "outputs": [
    {
     "name": "stdout",
     "output_type": "stream",
     "text": [
      "train R^2 :  0.6570530855124637\n"
     ]
    }
   ],
   "source": [
    "print(\"train R^2 : \",  reg.score(x_test, y_test))"
   ]
  },
  {
   "cell_type": "code",
   "execution_count": 59,
   "id": "891d6b60",
   "metadata": {},
   "outputs": [
    {
     "data": {
      "text/plain": [
       "array([ 88774.12392248, 414774.15111162, 596084.53911477, ...,\n",
       "       734023.29374727, 562894.58880632, 494683.68037315])"
      ]
     },
     "execution_count": 59,
     "metadata": {},
     "output_type": "execute_result"
    }
   ],
   "source": [
    "pred_train=(reg.predict(x_train))\n",
    "pred_train                                        #for predict values find"
   ]
  },
  {
   "cell_type": "code",
   "execution_count": 60,
   "id": "b22e1efc",
   "metadata": {},
   "outputs": [
    {
     "data": {
      "text/plain": [
       "array([ 301903.82969379, 1222335.53583833,  473123.83680786, ...,\n",
       "        859365.12344245,  258231.30702413,  465689.47001852])"
      ]
     },
     "execution_count": 60,
     "metadata": {},
     "output_type": "execute_result"
    }
   ],
   "source": [
    "pred_test=(reg.predict(x_test))\n",
    "pred_test"
   ]
  },
  {
   "cell_type": "code",
   "execution_count": 61,
   "id": "c59d4a0e",
   "metadata": {},
   "outputs": [
    {
     "data": {
      "text/plain": [
       "1956      420850.0\n",
       "15678     335000.0\n",
       "8729      587100.0\n",
       "19064     495000.0\n",
       "11291     780000.0\n",
       "           ...    \n",
       "13123    1180000.0\n",
       "19648     299000.0\n",
       "9845      431000.0\n",
       "10799     411000.0\n",
       "2732      699900.0\n",
       "Name: price, Length: 16209, dtype: float64"
      ]
     },
     "execution_count": 61,
     "metadata": {},
     "output_type": "execute_result"
    }
   ],
   "source": [
    "y_train=(y_train)\n",
    "y_train"
   ]
  },
  {
   "cell_type": "code",
   "execution_count": 62,
   "id": "64c2f47f",
   "metadata": {},
   "outputs": [],
   "source": [
    "y_test=(y_test)"
   ]
  },
  {
   "cell_type": "code",
   "execution_count": 63,
   "id": "20f0bdd3",
   "metadata": {},
   "outputs": [
    {
     "name": "stdout",
     "output_type": "stream",
     "text": [
      "Train MSE 34662886590.671295\n",
      "Train rmse 186179.71584109613\n",
      "Train MAE 132192.3513468326\n",
      "Train MAPE 0.2829230650525299\n"
     ]
    }
   ],
   "source": [
    "print(\"Train MSE\", np.mean((pred_train-y_train)**(2)))\n",
    "print(\"Train rmse\", np.sqrt(np.mean((pred_train-y_train)**(2))))\n",
    "print(\"Train MAE\",  np.mean(np.abs(pred_train-y_train)))\n",
    "print(\"Train MAPE\",  np.mean(np.abs((pred_train-y_train)/y_train)))"
   ]
  },
  {
   "cell_type": "code",
   "execution_count": 64,
   "id": "0f375ef6",
   "metadata": {},
   "outputs": [
    {
     "name": "stdout",
     "output_type": "stream",
     "text": [
      "Test MSE 34014886868.77309\n",
      "Test rmse 184431.25241881618\n",
      "Test MAE 130278.4250614368\n",
      "Test MAPE 0.28144917114632045\n"
     ]
    }
   ],
   "source": [
    "  print(\"Test MSE\", np.mean((pred_test-y_test)**(2)))\n",
    "print(\"Test rmse\", np.sqrt(np.mean((pred_test-y_test)**(2))))\n",
    "print(\"Test MAE\",  np.mean(np.abs(pred_test-y_test)))\n",
    "print(\"Test MAPE\",  np.mean(np.abs((pred_test-y_test)/y_test)))"
   ]
  },
  {
   "cell_type": "code",
   "execution_count": null,
   "id": "3af5e51f",
   "metadata": {},
   "outputs": [],
   "source": []
  },
  {
   "cell_type": "code",
   "execution_count": 65,
   "id": "db2ee3b7",
   "metadata": {},
   "outputs": [],
   "source": [
    "gh=pd.DataFrame({'Y_act':y_train, 'Y_pred': pred_train})"
   ]
  },
  {
   "cell_type": "code",
   "execution_count": 66,
   "id": "fc5d216f",
   "metadata": {},
   "outputs": [
    {
     "data": {
      "text/plain": [
       "<AxesSubplot:>"
      ]
     },
     "execution_count": 66,
     "metadata": {},
     "output_type": "execute_result"
    },
    {
     "data": {
      "image/png": "[encoded data removed]",
      "text/plain": [
       "<Figure size 432x288 with 1 Axes>"
      ]
     },
     "metadata": {
      "needs_background": "light"
     },
     "output_type": "display_data"
    }
   ],
   "source": [
    "gh.head(10).plot(kind='bar')"
   ]
  },
  {
   "cell_type": "markdown",
   "id": "2b8502cd",
   "metadata": {},
   "source": [
    "# SGD"
   ]
  },
  {
   "cell_type": "code",
   "execution_count": 67,
   "id": "3e7e9b2f",
   "metadata": {},
   "outputs": [
    {
     "data": {
      "text/plain": [
       "MinMaxScaler()"
      ]
     },
     "execution_count": 67,
     "metadata": {},
     "output_type": "execute_result"
    }
   ],
   "source": [
    "from sklearn.preprocessing import MinMaxScaler\n",
    "mn=MinMaxScaler()\n",
    "mn.fit(x_train)"
   ]
  },
  {
   "cell_type": "code",
   "execution_count": 68,
   "id": "f7749f97",
   "metadata": {},
   "outputs": [],
   "source": [
    "x_train_trans=mn.transform(x_train)\n",
    "x_test_trans=mn.transform(x_test)"
   ]
  },
  {
   "cell_type": "code",
   "execution_count": 69,
   "id": "42024938",
   "metadata": {},
   "outputs": [
    {
     "data": {
      "text/html": [
       "<div>\n",
       "<style scoped>\n",
       "    .dataframe tbody tr th:only-of-type {\n",
       "        vertical-align: middle;\n",
       "    }\n",
       "\n",
       "    .dataframe tbody tr th {\n",
       "        vertical-align: top;\n",
       "    }\n",
       "\n",
       "    .dataframe thead th {\n",
       "        text-align: right;\n",
       "    }\n",
       "</style>\n",
       "<table border=\"1\" class=\"dataframe\">\n",
       "  <thead>\n",
       "    <tr style=\"text-align: right;\">\n",
       "      <th></th>\n",
       "      <th>sqft_basement</th>\n",
       "      <th>sqft_lot15</th>\n",
       "      <th>sqft_living15</th>\n",
       "      <th>bedrooms</th>\n",
       "      <th>bathrooms</th>\n",
       "      <th>grade</th>\n",
       "      <th>floors</th>\n",
       "      <th>waterfront</th>\n",
       "      <th>view</th>\n",
       "      <th>condition</th>\n",
       "      <th>yr_renovated</th>\n",
       "      <th>house_yr</th>\n",
       "    </tr>\n",
       "  </thead>\n",
       "  <tbody>\n",
       "    <tr>\n",
       "      <th>0</th>\n",
       "      <td>0.0</td>\n",
       "      <td>0.122424</td>\n",
       "      <td>0.118211</td>\n",
       "      <td>0.00</td>\n",
       "      <td>0.000000</td>\n",
       "      <td>0.000000</td>\n",
       "      <td>0.0</td>\n",
       "      <td>0.0</td>\n",
       "      <td>0.0</td>\n",
       "      <td>1.0</td>\n",
       "      <td>0.000000</td>\n",
       "      <td>0.608696</td>\n",
       "    </tr>\n",
       "    <tr>\n",
       "      <th>1</th>\n",
       "      <td>0.0</td>\n",
       "      <td>0.056524</td>\n",
       "      <td>0.182109</td>\n",
       "      <td>0.25</td>\n",
       "      <td>0.230769</td>\n",
       "      <td>0.333333</td>\n",
       "      <td>0.0</td>\n",
       "      <td>0.0</td>\n",
       "      <td>0.0</td>\n",
       "      <td>0.5</td>\n",
       "      <td>0.980645</td>\n",
       "      <td>0.582609</td>\n",
       "    </tr>\n",
       "  </tbody>\n",
       "</table>\n",
       "</div>"
      ],
      "text/plain": [
       "   sqft_basement  sqft_lot15  sqft_living15  bedrooms  bathrooms     grade  \\\n",
       "0            0.0    0.122424       0.118211      0.00   0.000000  0.000000   \n",
       "1            0.0    0.056524       0.182109      0.25   0.230769  0.333333   \n",
       "\n",
       "   floors  waterfront  view  condition  yr_renovated  house_yr  \n",
       "0     0.0         0.0   0.0        1.0      0.000000  0.608696  \n",
       "1     0.0         0.0   0.0        0.5      0.980645  0.582609  "
      ]
     },
     "execution_count": 69,
     "metadata": {},
     "output_type": "execute_result"
    }
   ],
   "source": [
    "x_train_trans_df=pd.DataFrame(x_train_trans,columns=x_train.columns)\n",
    "x_train_trans_df.head(2)"
   ]
  },
  {
   "cell_type": "code",
   "execution_count": 70,
   "id": "732f8eed",
   "metadata": {},
   "outputs": [],
   "source": [
    "from sklearn.linear_model import  SGDRegressor"
   ]
  },
  {
   "cell_type": "code",
   "execution_count": 171,
   "id": "a55189a8",
   "metadata": {},
   "outputs": [],
   "source": [
    "sgd=SGDRegressor(loss=\"squared_error\" , epsilon=0.01, penalty=\"l1\" ,max_iter=100000000 ,tol=1e-7, random_state=0)"
   ]
  },
  {
   "cell_type": "code",
   "execution_count": 170,
   "id": "c69d4445",
   "metadata": {},
   "outputs": [
    {
     "data": {
      "text/plain": [
       "SGDRegressor(epsilon=0.01, max_iter=100000000, penalty='l1', random_state=0,\n",
       "             tol=1e-07)"
      ]
     },
     "execution_count": 170,
     "metadata": {},
     "output_type": "execute_result"
    }
   ],
   "source": [
    "sgd.fit(x_train_trans, y_train)"
   ]
  },
  {
   "cell_type": "code",
   "execution_count": 73,
   "id": "d0b006fa",
   "metadata": {},
   "outputs": [
    {
     "data": {
      "text/plain": [
       "SGDRegressor(epsilon=0.01, max_iter=100000000, penalty='l1', random_state=0,\n",
       "             tol=1e-07)"
      ]
     },
     "execution_count": 73,
     "metadata": {},
     "output_type": "execute_result"
    }
   ],
   "source": [
    "sgd.fit(x_test_trans,y_test)"
   ]
  },
  {
   "cell_type": "code",
   "execution_count": 74,
   "id": "ee947db9",
   "metadata": {},
   "outputs": [
    {
     "data": {
      "text/plain": [
       "0.6559690378174171"
      ]
     },
     "execution_count": 74,
     "metadata": {},
     "output_type": "execute_result"
    }
   ],
   "source": [
    "sgd.score(x_train_trans,y_train)"
   ]
  },
  {
   "cell_type": "code",
   "execution_count": 75,
   "id": "7c1a8559",
   "metadata": {},
   "outputs": [
    {
     "data": {
      "text/plain": [
       "0.6579850966734666"
      ]
     },
     "execution_count": 75,
     "metadata": {},
     "output_type": "execute_result"
    }
   ],
   "source": [
    "sgd.score(x_test_trans,y_test)"
   ]
  },
  {
   "cell_type": "code",
   "execution_count": null,
   "id": "becadfda",
   "metadata": {},
   "outputs": [],
   "source": []
  }
 ],
 "metadata": {
  "kernelspec": {
   "display_name": "Python 3 (ipykernel)",
   "language": "python",
   "name": "python3"
  },
  "language_info": {
   "codemirror_mode": {
    "name": "ipython",
    "version": 3
   },
   "file_extension": ".py",
   "mimetype": "text/x-python",
   "name": "python",
   "nbconvert_exporter": "python",
   "pygments_lexer": "ipython3",
   "version": "3.9.12"
  }
 },
 "nbformat": 4,
 "nbformat_minor": 5
}
